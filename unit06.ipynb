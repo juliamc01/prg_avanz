{
 "cells": [
  {
   "cell_type": "markdown",
   "metadata": {},
   "source": [
    "<table style=\"width: 100%; border: none;\">\n",
    "    <tr>\n",
    "        <!-- Columna para la imagen -->\n",
    "        <td style=\"width: 100px; vertical-align: top; padding-right: 20px;\">\n",
    "            <img src=\"figs/uah1.png\" style=\"width: 80px; height: auto; border-radius: 50%; box-shadow: 0 4px 6px rgba(0, 0, 0, 0.1);\">\n",
    "        </td>\n",
    "        <!-- Columna para los textos -->\n",
    "        <td style=\"vertical-align: top;\">\n",
    "            <h1 style=\"font-size: 32px; color: #003366; margin: 0;\">Geospatial Data Science</h1>\n",
    "            <h2 style=\"font-size: 24px; color: #005599; margin-top: 10px; margin-bottom: 10px;\">Tema 6: Relaciones espaciales y <i>joins</i> en Geopandas</h2>\n",
    "            <h3 style=\"font-size: 18px; color: #666; margin-bottom: 10px; font-weight: normal;\">\n",
    "                Advanced Programming · Máster en Tecnologías de la Información Geográfica\n",
    "            </h3>\n",
    "            <h4 style=\"font-size: 16px; color: #444;\">Profesora: <span style=\"font-weight: bold; color: #222;\">Julia Clemente</span></h4>\n",
    "        </td>\n",
    "    </tr>\n",
    "</table>"
   ]
  },
  {
   "cell_type": "code",
   "execution_count": 31,
   "metadata": {},
   "outputs": [],
   "source": [
    "# Avoid interference with GDAL from other external software due to environment variables used: GDAL_DATA and PROJ_LIB\n",
    "\n",
    "import os\n",
    "import getpass\n",
    "\n",
    "usuario = getpass.getuser()\n",
    "\n",
    "# os.environ['GDAL_DATA'] = f'/opt/anaconda3/envs/geoenv/share/gdal'\n",
    "# os.environ['PROJ_LIB'] = f'/opt/anaconda3/envs/geoenv/share'\n",
    "\n",
    "# en windows\n",
    "os.environ['GDAL_DATA'] = f'C:\\\\Users\\\\{usuario}\\\\anaconda3\\\\envs\\\\advprog\\\\Library\\\\share\\\\gdal'\n",
    "os.environ['PROJ_LIB'] = f'C:\\\\Users\\\\{usuario}\\\\anaconda3\\\\envs\\\\advprog\\\\Library\\\\share\\\\proj'"
   ]
  },
  {
   "cell_type": "code",
   "execution_count": 32,
   "metadata": {},
   "outputs": [],
   "source": [
    "%matplotlib inline\n",
    "\n",
    "import pandas as pd\n",
    "import geopandas\n",
    "import matplotlib.pyplot as plt"
   ]
  },
  {
   "cell_type": "code",
   "execution_count": 33,
   "metadata": {},
   "outputs": [],
   "source": [
    "countries = geopandas.read_file(\"data/ne_110m_admin_0_countries.zip\")\n",
    "cities = geopandas.read_file(\"data/ne_110m_populated_places.zip\")\n",
    "rivers = geopandas.read_file(\"data/ne_50m_rivers_lake_centerlines.zip\")"
   ]
  },
  {
   "cell_type": "markdown",
   "metadata": {},
   "source": [
    "## Relaciones espaciales\n",
    "\n",
    "Un aspecto relevante de los datos geoespaciales es que se puede analizar la relación entre varios objetos espaciales (si se superponen, se cruzan, uno está contenido en otro, etc.).\n",
    "\n",
    "Las relaciones topológicas y de teoría de conjuntos en SIG suelen basarse en el modelo DE-9IM. Consulte para más información: https://en.wikipedia.org/wiki/Spatial_relation \n",
    "\n",
    "![](figs/SpatialRelations.png)\n",
    "Fuente: [Krauss, CC BY-SA 3.0](https://en.wikipedia.org/wiki/Spatial_relation#/media/File:TopologicSpatialRelarions2.png)"
   ]
  },
  {
   "cell_type": "markdown",
   "metadata": {},
   "source": [
    "### Relaciones entre objetos individuales"
   ]
  },
  {
   "cell_type": "markdown",
   "metadata": {},
   "source": [
    "Primero creemos algunos objetos espaciales pequeños \"de juguete\".  \n",
    "\n",
    "Un polígono:"
   ]
  },
  {
   "cell_type": "code",
   "execution_count": 34,
   "metadata": {},
   "outputs": [],
   "source": [
    "belgium = countries.loc[countries['name'] == 'Belgium', 'geometry'].item()"
   ]
  },
  {
   "cell_type": "markdown",
   "metadata": {},
   "source": [
    "Usamos `.item()` aquí para extraer el objeto de geometría escalar de `GeoSeries` de longitud 1."
   ]
  },
  {
   "cell_type": "code",
   "execution_count": 35,
   "metadata": {},
   "outputs": [
    {
     "data": {
      "image/svg+xml": [
       "<svg xmlns=\"http://www.w3.org/2000/svg\" xmlns:xlink=\"http://www.w3.org/1999/xlink\" width=\"100.0\" height=\"100.0\" viewBox=\"2.3678496272976077 49.383760142609 3.9345319336096796 2.2369869710376378\" preserveAspectRatio=\"xMinYMin meet\"><g transform=\"matrix(1,0,0,-1,0,101.00450725625564)\"><path fill-rule=\"evenodd\" fill=\"#66cc99\" stroke=\"#555555\" stroke-width=\"0.07869063867219359\" opacity=\"0.6\" d=\"M 4.047071160507528,51.26725861266857 L 4.973991326526914,51.47502370869813 L 5.606975945670001,51.03729848896978 L 6.15665815595878,50.80372101501058 L 6.043073357781111,50.128051662794235 L 5.782417433300907,50.09032786722122 L 5.674051954784829,49.529483547557504 L 4.799221632515696,49.98537303323636 L 4.2860229834250845,49.907496649772554 L 3.588184441755658,50.37899241800352 L 3.1232515804256593,50.78036326761455 L 2.658422071960274,50.796848049515745 L 2.5135730322461143,51.148506171261886 L 3.3149711442285366,51.345780951536085 L 3.3150114849641596,51.34577662473805 L 3.3149711442285366,51.34575511331991 L 4.047071160507528,51.26725861266857 z\" /></g></svg>"
      ],
      "text/plain": [
       "<POLYGON ((4.047 51.267, 4.974 51.475, 5.607 51.037, 6.157 50.804, 6.043 50....>"
      ]
     },
     "execution_count": 35,
     "metadata": {},
     "output_type": "execute_result"
    }
   ],
   "source": [
    "belgium"
   ]
  },
  {
   "cell_type": "markdown",
   "metadata": {},
   "source": [
    "Dos puntos:"
   ]
  },
  {
   "cell_type": "code",
   "execution_count": 36,
   "metadata": {},
   "outputs": [],
   "source": [
    "paris = cities.loc[cities['name'] == 'Paris', 'geometry'].item()\n",
    "brussels = cities.loc[cities['name'] == 'Brussels', 'geometry'].item()"
   ]
  },
  {
   "cell_type": "code",
   "execution_count": 11,
   "metadata": {},
   "outputs": [
    {
     "data": {
      "image/svg+xml": [
       "<svg xmlns=\"http://www.w3.org/2000/svg\" xmlns:xlink=\"http://www.w3.org/1999/xlink\" width=\"100.0\" height=\"100.0\" viewBox=\"1.3313894671303501 47.86863878981461 2.0 2.0\" preserveAspectRatio=\"xMinYMin meet\"><g transform=\"matrix(1,0,0,-1,0,97.73727757962922)\"><circle cx=\"2.33138946713035\" cy=\"48.86863878981461\" r=\"0.06\" stroke=\"#555555\" stroke-width=\"0.02\" fill=\"#66cc99\" opacity=\"0.6\" /></g></svg>"
      ],
      "text/plain": [
       "<POINT (2.331 48.869)>"
      ]
     },
     "execution_count": 11,
     "metadata": {},
     "output_type": "execute_result"
    }
   ],
   "source": [
    "paris"
   ]
  },
  {
   "cell_type": "code",
   "execution_count": 12,
   "metadata": {},
   "outputs": [
    {
     "data": {
      "image/svg+xml": [
       "<svg xmlns=\"http://www.w3.org/2000/svg\" xmlns:xlink=\"http://www.w3.org/1999/xlink\" width=\"100.0\" height=\"100.0\" viewBox=\"3.33137074969045 49.83526293533032 2.0 2.0\" preserveAspectRatio=\"xMinYMin meet\"><g transform=\"matrix(1,0,0,-1,0,101.67052587066064)\"><circle cx=\"4.33137074969045\" cy=\"50.83526293533032\" r=\"0.06\" stroke=\"#555555\" stroke-width=\"0.02\" fill=\"#66cc99\" opacity=\"0.6\" /></g></svg>"
      ],
      "text/plain": [
       "<POINT (4.331 50.835)>"
      ]
     },
     "execution_count": 12,
     "metadata": {},
     "output_type": "execute_result"
    }
   ],
   "source": [
    "brussels"
   ]
  },
  {
   "cell_type": "markdown",
   "metadata": {},
   "source": [
    "Y un `LineString`:"
   ]
  },
  {
   "cell_type": "code",
   "execution_count": 13,
   "metadata": {},
   "outputs": [
    {
     "data": {
      "image/svg+xml": [
       "<svg xmlns=\"http://www.w3.org/2000/svg\" xmlns:xlink=\"http://www.w3.org/1999/xlink\" width=\"100.0\" height=\"100.0\" viewBox=\"2.251390215827946 48.78863953851221 2.1599797851649076 2.1266226481205166\" preserveAspectRatio=\"xMinYMin meet\"><g transform=\"matrix(1,0,0,-1,0,99.70390172514493)\"><polyline fill=\"none\" stroke=\"#66cc99\" stroke-width=\"0.04319959570329815\" points=\"2.33138946713035,48.86863878981461 4.33137074969045,50.83526293533032\" opacity=\"0.8\" /></g></svg>"
      ],
      "text/plain": [
       "<LINESTRING (2.331 48.869, 4.331 50.835)>"
      ]
     },
     "execution_count": 13,
     "metadata": {},
     "output_type": "execute_result"
    }
   ],
   "source": [
    "from shapely.geometry import LineString\n",
    "\n",
    "line = LineString([paris, brussels])\n",
    "line"
   ]
  },
  {
   "cell_type": "markdown",
   "metadata": {},
   "source": [
    "Vamos a visualizar los 4 objetos de geometría juntos; podemos crear una `GeoSeries` para mostrarlos fácilmente junto con el método `.plot()` de geopandas:"
   ]
  },
  {
   "cell_type": "code",
   "execution_count": 14,
   "metadata": {},
   "outputs": [
    {
     "data": {
      "image/png": "[encoded data removed]",
      "text/plain": [
       "<Figure size 640x480 with 1 Axes>"
      ]
     },
     "metadata": {},
     "output_type": "display_data"
    }
   ],
   "source": [
    "geopandas.GeoSeries([belgium, paris, brussels, line]).plot(cmap='tab10')\n",
    "plt.show()"
   ]
  },
  {
   "cell_type": "markdown",
   "metadata": {},
   "source": [
    "Puedes reconocer la forma abstracta de Bélgica. Bruselas (capital de Bélgica) se encuentra dentro de Bélgica y esta relación espacial se puede demostrar utilizando los objetos geométricos individuales de la siguiente manera:"
   ]
  },
  {
   "cell_type": "code",
   "execution_count": 37,
   "metadata": {},
   "outputs": [
    {
     "data": {
      "text/plain": [
       "True"
      ]
     },
     "execution_count": 37,
     "metadata": {},
     "output_type": "execute_result"
    }
   ],
   "source": [
    "brussels.within(belgium)"
   ]
  },
  {
   "cell_type": "markdown",
   "metadata": {},
   "source": [
    "Y al revés, Bélgica contiene a Bruselas:"
   ]
  },
  {
   "cell_type": "code",
   "execution_count": 16,
   "metadata": {},
   "outputs": [
    {
     "data": {
      "text/plain": [
       "True"
      ]
     },
     "execution_count": 16,
     "metadata": {},
     "output_type": "execute_result"
    }
   ],
   "source": [
    "belgium.contains(brussels)"
   ]
  },
  {
   "cell_type": "markdown",
   "metadata": {},
   "source": [
    "Y también chequear que París no se encuentra en Bélgica:"
   ]
  },
  {
   "cell_type": "code",
   "execution_count": 17,
   "metadata": {},
   "outputs": [
    {
     "data": {
      "text/plain": [
       "False"
      ]
     },
     "execution_count": 17,
     "metadata": {},
     "output_type": "execute_result"
    }
   ],
   "source": [
    "belgium.contains(paris)"
   ]
  },
  {
   "cell_type": "code",
   "execution_count": 18,
   "metadata": {},
   "outputs": [
    {
     "data": {
      "text/plain": [
       "False"
      ]
     },
     "execution_count": 18,
     "metadata": {},
     "output_type": "execute_result"
    }
   ],
   "source": [
    "paris.within(belgium)"
   ]
  },
  {
   "cell_type": "markdown",
   "metadata": {},
   "source": [
    "La línea recta trazada de París a Bruselas no está completamente dentro de Bélgica, pero sí se cruza con ella:"
   ]
  },
  {
   "cell_type": "code",
   "execution_count": 19,
   "metadata": {},
   "outputs": [
    {
     "data": {
      "text/plain": [
       "False"
      ]
     },
     "execution_count": 19,
     "metadata": {},
     "output_type": "execute_result"
    }
   ],
   "source": [
    "belgium.contains(line)"
   ]
  },
  {
   "cell_type": "code",
   "execution_count": 20,
   "metadata": {},
   "outputs": [
    {
     "data": {
      "text/plain": [
       "True"
      ]
     },
     "execution_count": 20,
     "metadata": {},
     "output_type": "execute_result"
    }
   ],
   "source": [
    "line.intersects(belgium)"
   ]
  },
  {
   "cell_type": "markdown",
   "metadata": {},
   "source": [
    "### Relaciones espaciales con GeoDataFrames\n",
    "\n",
    "Los mismos métodos vistos anteriormente, y que están disponibles en geometrías `shapely` individuales, también están disponibles como métodos en objetos `GeoSeries` / `GeoDataFrame`.\n",
    "\n",
    "Por ejemplo, si llamamos al método `contains`  en el conjunto de datos mundial con el punto `paris`, realizará esta verificación espacial para cada país en el dataframe `countries`:"
   ]
  },
  {
   "cell_type": "code",
   "execution_count": 21,
   "metadata": {},
   "outputs": [
    {
     "data": {
      "text/plain": [
       "0      False\n",
       "1      False\n",
       "2      False\n",
       "3      False\n",
       "4      False\n",
       "       ...  \n",
       "172    False\n",
       "173    False\n",
       "174    False\n",
       "175    False\n",
       "176    False\n",
       "Length: 177, dtype: bool"
      ]
     },
     "execution_count": 21,
     "metadata": {},
     "output_type": "execute_result"
    }
   ],
   "source": [
    "countries.contains(paris)"
   ]
  },
  {
   "cell_type": "markdown",
   "metadata": {},
   "source": [
    "Debido a que lo anterior nos da un resultado booleano, podemos usarlo para filtrar el dataframe:"
   ]
  },
  {
   "cell_type": "code",
   "execution_count": 22,
   "metadata": {},
   "outputs": [
    {
     "data": {
      "text/html": [
       "<div>\n",
       "<style scoped>\n",
       "    .dataframe tbody tr th:only-of-type {\n",
       "        vertical-align: middle;\n",
       "    }\n",
       "\n",
       "    .dataframe tbody tr th {\n",
       "        vertical-align: top;\n",
       "    }\n",
       "\n",
       "    .dataframe thead th {\n",
       "        text-align: right;\n",
       "    }\n",
       "</style>\n",
       "<table border=\"1\" class=\"dataframe\">\n",
       "  <thead>\n",
       "    <tr style=\"text-align: right;\">\n",
       "      <th></th>\n",
       "      <th>iso_a3</th>\n",
       "      <th>name</th>\n",
       "      <th>continent</th>\n",
       "      <th>pop_est</th>\n",
       "      <th>gdp_md_est</th>\n",
       "      <th>geometry</th>\n",
       "    </tr>\n",
       "  </thead>\n",
       "  <tbody>\n",
       "    <tr>\n",
       "      <th>55</th>\n",
       "      <td>FRA</td>\n",
       "      <td>France</td>\n",
       "      <td>Europe</td>\n",
       "      <td>67106161.0</td>\n",
       "      <td>2699000.0</td>\n",
       "      <td>MULTIPOLYGON (((2.51357 51.14851, 2.65842 50.7...</td>\n",
       "    </tr>\n",
       "  </tbody>\n",
       "</table>\n",
       "</div>"
      ],
      "text/plain": [
       "   iso_a3    name continent     pop_est  gdp_md_est  \\\n",
       "55    FRA  France    Europe  67106161.0   2699000.0   \n",
       "\n",
       "                                             geometry  \n",
       "55  MULTIPOLYGON (((2.51357 51.14851, 2.65842 50.7...  "
      ]
     },
     "execution_count": 22,
     "metadata": {},
     "output_type": "execute_result"
    }
   ],
   "source": [
    "countries[countries.contains(paris)]"
   ]
  },
  {
   "cell_type": "markdown",
   "metadata": {},
   "source": [
    "Y se obtiene, claro, que Francia es el único país del mundo en el que se encuentra París."
   ]
  },
  {
   "cell_type": "markdown",
   "metadata": {},
   "source": [
    "Otro ejemplo, extrayendo el cordón umbilical del río Amazonas en América del Sur, podemos consultar por qué países fluye el río:"
   ]
  },
  {
   "cell_type": "code",
   "execution_count": 23,
   "metadata": {},
   "outputs": [
    {
     "data": {
      "image/svg+xml": [
       "<svg xmlns=\"http://www.w3.org/2000/svg\" xmlns:xlink=\"http://www.w3.org/1999/xlink\" width=\"100.0\" height=\"100.0\" viewBox=\"-74.3216140366704 -5.277823272138241 22.490422558678098 4.559010611774324\" preserveAspectRatio=\"xMinYMin meet\"><g transform=\"matrix(1,0,0,-1,0,-5.9966359325021585)\"><polyline fill=\"none\" stroke=\"#66cc99\" stroke-width=\"0.44980845117356194\" points=\"-52.664170091276674,-1.5517912736482913 -52.873614671180064,-1.6111158177407674 -52.99998938630108,-1.668063245922042 -53.14489010229636,-1.7638713518813347 -53.35784868057209,-1.8383887674276025 -53.63886511932975,-1.891512139773397 -53.84329708499246,-1.9581230603309336 -53.97106706409369,-2.038273206842973 -54.04468014207487,-2.141212660535814 -54.06416215645834,-2.2670447732975845 -54.1866869773221,-2.357530205754358 -54.467651740135636,-2.4402124978084885 -54.52511593315376,-2.4403158505959937 -54.56413163876408,-2.440522556171004 -54.639010789516306,-2.4193352185454273 -54.676191982473995,-2.3592872049405287 -54.67456417539631,-2.253350518611512 -54.69381364578311,-2.1841040988250597 -54.73391455791045,-2.1516512992679964 -54.793523321943724,-2.1198186173352838 -54.87258826373733,-2.0886060521275454 -54.95663998045069,-2.1042123347314146 -55.045626797039006,-2.1667408179343397 -55.14972896981607,-2.180280042989523 -55.268998175625256,-2.1448300107963405 -55.375167405951004,-2.082714938743379 -55.45808224110249,-1.986803480895901 -55.51484880213047,-1.949493096728986 -55.55482052304865,-1.9239649393304603 -55.605850999424035,-1.9183838843087528 -55.66936133455789,-1.9265487608166154 -55.73571387359635,-1.963549085721695 -55.83971269358591,-1.989955743162966 -55.98133195700416,-2.0056653785543404 -56.129462449632285,-2.079511000532193 -56.28407833484721,-2.2115959609847664 -56.40086707195775,-2.336291192184717 -56.4797253081764,-2.4535966932327824 -56.54850663907007,-2.5269255512731092 -56.607185228015794,-2.556381117294677 -56.67625077974964,-2.5746745741722066 -56.7557808095367,-2.582012627480708 -56.847351446711855,-2.566509697664344 -56.951014369917175,-2.528165785622434 -57.04966467978113,-2.5231531713816935 -57.14327653698257,-2.5514201798973204 -57.244381476224135,-2.5264087864363205 -57.35300533682681,-2.448274020629526 -57.44002844955327,-2.4046591119284244 -57.505502488548984,-2.3956674131205773 -57.60539303276221,-2.4813469378108834 -57.73975175633842,-2.6618010396861678 -57.88284379720346,-2.7839641253440846 -58.03466915535722,-2.8476294901088295 -58.134973110720466,-2.958630466622708 -58.18365230960637,-3.116863702098101 -58.234992845243596,-3.199959405302252 -58.268065761525634,-3.2142737767133553 -58.315918138111556,-3.2118449848580894 -58.38015194365721,-3.2022331684259484 -58.45257646323313,-3.1815109187938333 -58.54931474427997,-3.205230401062124 -58.64225480791299,-3.3039840637135285 -58.68904781730288,-3.3423279757554383 -58.80511308490088,-3.3470822075777846 -58.88993994797016,-3.3226392557969575 -58.98220821803477,-3.270549411326215 -59.09134884257497,-3.2389234349685125 -59.21733598496769,-3.227761325824474 -59.381460333827306,-3.1842497699108776 -59.58364437478804,-3.10859547280279 -59.735443895419394,-3.077899672431897 -59.836833055501074,-3.0921623669996166 -59.89682939316191,-3.1276124000921186 -59.905640224816466,-3.1713823384241095 -59.924502122474905,-3.2059538714739233 -59.957497524391215,-3.237373142256672 -60.10503373871603,-3.305637709212874 -60.2031156068997,-3.3252230772831695 -60.27902828642624,-3.3020720348964687 -60.41059648294129,-3.299849948616213 -60.59776852050078,-3.3185568175430262 -60.74698421874666,-3.398086846430772 -60.85819190083549,-3.538336683391151 -61.03593299001545,-3.6103736302388256 -61.28015580944299,-3.6140943332868005 -61.46753455257749,-3.6760026997647515 -61.59806922031822,-3.7963054334489357 -61.7170283677649,-3.8830184869136133 -61.82441199401825,-3.936141859259351 -61.89265072255279,-3.9467872044658634 -62.01122229637184,-3.895730889668755 -62.27740759978087,-3.761785577242563 -62.36737626830012,-3.718067314854636 -62.39336951369205,-3.716361993411226 -62.42349687328203,-3.7305213351914404 -62.4494384427299,-3.801938165314027 -62.54312781429718,-3.8510824521933387 -62.70456498888308,-3.8780575495162566 -62.86290157714603,-3.938312269595542 -63.01813757998531,-4.0319499652187005 -63.09678910972957,-4.078458753768416 -63.152237922042445,-4.071534112509255 -63.177275153025846,-4.03515390342983 -63.21634253637893,-3.9744857722005804 -63.28292761941407,-3.9229126925666833 -63.449584112916455,-3.8709262017827655 -63.57321997781969,-3.853872979254561 -63.65380937390347,-3.871856377769575 -63.74744706862725,-3.8683940571399944 -63.85421057815563,-3.843434339623002 -64.03549150233096,-3.7645761043037282 -64.29128984205255,-3.631871026226804 -64.45830807166016,-3.523660576774148 -64.57561357270816,-3.398190199218277 -64.79027747242736,-3.222386976377834 -64.90505082883266,-3.12843922239216 -65.06974361847318,-2.9705160461785454 -65.17950436063768,-2.834503676203667 -65.28779232445618,-2.746757093964675 -65.39463334835028,-2.7072762994616255 -65.45868628584338,-2.6634546851855134 -65.47997697625641,-2.615498955812086 -65.55818925642899,-2.594311619085886 -65.76096757659235,-2.6029932595312744 -65.90057145840603,-2.4930774877358317 -65.97733679865428,-2.466154066357035 -66.03774654836445,-2.485481052008879 -66.09624426925757,-2.477419529187898 -66.15277828628882,-2.441866143307834 -66.21031999367273,-2.4599528946103533 -66.26892106825267,-2.5316797830954556 -66.33395585767664,-2.5367440732803175 -66.40539852532163,-2.475145766064202 -66.47100175642589,-2.4390756162466687 -66.53073971256765,-2.4285336238276045 -66.57254594613846,-2.4781429987003776 -66.59644629556004,-2.587903740864874 -66.64099138024795,-2.6591655413566286 -66.7061812002022,-2.6918250464886455 -66.80069739406946,-2.714510999982622 -66.9245399645477,-2.7273267555253256 -67.0769596019041,-2.695442396749172 -67.25798214366097,-2.618806247710097 -67.38402096199775,-2.6228370091206443 -67.45512773285856,-2.7073796522491307 -67.57240739638422,-2.7791582166782973 -67.73588579009709,-2.838224379251642 -67.84631832583005,-2.92783131256499 -67.93238542324866,-3.10802703202188 -67.92652014828616,-3.223265476420579 -67.94569210430711,-3.2831067844504673 -67.98786007308388,-3.325946546795649 -68.09457190576882,-3.333904717728501 -68.26582760236192,-3.306877943562199 -68.5957041080581,-3.345376885234998 -69.08417558443563,-3.4493498677022103 -69.35185950371306,-3.552702731645695 -69.39878170431217,-3.6554354797635256 -69.41627417641206,-3.7640593403662024 -69.40438859685622,-3.8785226375096613 -69.42498165527911,-3.97350392026965 -69.4780016748374,-4.049054863690969 -69.48094723152946,-4.111428318162325 -69.4337408109896,-4.160624280985758 -69.458778041973,-4.223101088244562 -69.55603308785669,-4.29880706129677 -69.68527584530398,-4.33467050553935 -69.8465063134156,-4.330536390442035 -69.94810217997161,-4.285164483454082 -69.96593054885568,-4.23596851973133 -70.0171935692278,-4.1619678690219075 -70.09475989425368,-4.092153008454545 -70.1675203115131,-4.05024342209623 -70.19839697903734,-3.9951563449892546 -70.24028072787326,-3.8827084285510978 -70.29844255198213,-3.844261162822363 -70.33949947761874,-3.8143405088073905 -70.3791869776968,-3.8187330054238373 -70.42109656405512,-3.8496355122690034 -70.48584713443768,-3.869375909070925 -70.52966874871373,-3.8663786755353726 -70.55736731644845,-3.87004770263934 -70.90047298883735,-3.960068048001972 -71.05793107795682,-3.9853894998254873 -71.13802954762548,-3.963427015844047 -71.19327165436334,-3.902758884614798 -71.28331783724838,-3.8689624979209043 -71.4081680971799,-3.862244561337377 -71.52139116087335,-3.8263811170948543 -71.62298702652998,-3.7614755179807275 -71.68866777200003,-3.6499061006859392 -71.71843339728343,-3.4916728652104894 -71.75197140155888,-3.394779554532761 -71.7893851385133,-3.3592261695520165 -71.91397701692574,-3.3837207981762276 -72.12577287431867,-3.4684701468797243 -72.29271358956049,-3.5034034151354376 -72.47585486481012,-3.481027520003977 -72.7467944000415,-3.456739596954776 -72.89050655763151,-3.467023206955389 -72.9973217431039,-3.503713474397273 -73.09369828984416,-3.562262872133772 -73.17961035853119,-3.642568047377438 -73.21136552609812,-3.782972913968763 -73.18898963096666,-3.9835808246952524 -73.19224524602123,-4.099232680243972 -73.22118404810527,-4.13003183340237 -73.26846798391028,-4.135922946786536 -73.33399369974939,-4.116906019497151 -73.36567135295053,-4.13251230210102 -73.3635009426144,-4.182638441810582 -73.3854117497524,-4.230852552703084 -73.43145545120808,-4.2771029597337815 -73.46302975162172,-4.336324151038696 -73.48863542338603,-4.444844658853867\" opacity=\"0.8\" /></g></svg>"
      ],
      "text/plain": [
       "<LINESTRING (-52.664 -1.552, -52.874 -1.611, -53 -1.668, -53.145 -1.764, -53...>"
      ]
     },
     "execution_count": 23,
     "metadata": {},
     "output_type": "execute_result"
    }
   ],
   "source": [
    "amazon = rivers[rivers['name'] == 'Amazonas'].geometry.item()\n",
    "amazon"
   ]
  },
  {
   "cell_type": "code",
   "execution_count": 24,
   "metadata": {},
   "outputs": [
    {
     "data": {
      "text/html": [
       "<div>\n",
       "<style scoped>\n",
       "    .dataframe tbody tr th:only-of-type {\n",
       "        vertical-align: middle;\n",
       "    }\n",
       "\n",
       "    .dataframe tbody tr th {\n",
       "        vertical-align: top;\n",
       "    }\n",
       "\n",
       "    .dataframe thead th {\n",
       "        text-align: right;\n",
       "    }\n",
       "</style>\n",
       "<table border=\"1\" class=\"dataframe\">\n",
       "  <thead>\n",
       "    <tr style=\"text-align: right;\">\n",
       "      <th></th>\n",
       "      <th>iso_a3</th>\n",
       "      <th>name</th>\n",
       "      <th>continent</th>\n",
       "      <th>pop_est</th>\n",
       "      <th>gdp_md_est</th>\n",
       "      <th>geometry</th>\n",
       "    </tr>\n",
       "  </thead>\n",
       "  <tbody>\n",
       "    <tr>\n",
       "      <th>22</th>\n",
       "      <td>BRA</td>\n",
       "      <td>Brazil</td>\n",
       "      <td>South America</td>\n",
       "      <td>207353391.0</td>\n",
       "      <td>3081000.0</td>\n",
       "      <td>POLYGON ((-57.62513 -30.21629, -56.2909 -28.85...</td>\n",
       "    </tr>\n",
       "    <tr>\n",
       "      <th>35</th>\n",
       "      <td>COL</td>\n",
       "      <td>Colombia</td>\n",
       "      <td>South America</td>\n",
       "      <td>47698524.0</td>\n",
       "      <td>688000.0</td>\n",
       "      <td>POLYGON ((-66.87633 1.25336, -67.06505 1.13011...</td>\n",
       "    </tr>\n",
       "    <tr>\n",
       "      <th>124</th>\n",
       "      <td>PER</td>\n",
       "      <td>Peru</td>\n",
       "      <td>South America</td>\n",
       "      <td>31036656.0</td>\n",
       "      <td>410400.0</td>\n",
       "      <td>POLYGON ((-69.52968 -10.95173, -68.66508 -12.5...</td>\n",
       "    </tr>\n",
       "  </tbody>\n",
       "</table>\n",
       "</div>"
      ],
      "text/plain": [
       "    iso_a3      name      continent      pop_est  gdp_md_est  \\\n",
       "22     BRA    Brazil  South America  207353391.0   3081000.0   \n",
       "35     COL  Colombia  South America   47698524.0    688000.0   \n",
       "124    PER      Peru  South America   31036656.0    410400.0   \n",
       "\n",
       "                                              geometry  \n",
       "22   POLYGON ((-57.62513 -30.21629, -56.2909 -28.85...  \n",
       "35   POLYGON ((-66.87633 1.25336, -67.06505 1.13011...  \n",
       "124  POLYGON ((-69.52968 -10.95173, -68.66508 -12.5...  "
      ]
     },
     "execution_count": 24,
     "metadata": {},
     "output_type": "execute_result"
    }
   ],
   "source": [
    "countries[countries.crosses(amazon)]  # or .intersects"
   ]
  },
  {
   "cell_type": "markdown",
   "metadata": {},
   "source": [
    "<div class=\"alert alert-success\" style=\"font-size:100%\">\n",
    "\n",
    "**RECOPILACIÓN DE PREDICADOS ESPACIALES:**\n",
    "\n",
    "Descripción general de las diferentes funciones para comprobar las relaciones espaciales (*funciones de predicados espaciales*):\n",
    "\n",
    "* `equals`\n",
    "* `contains`\n",
    "* `crosses`\n",
    "* `disjoint`\n",
    "* `intersects`\n",
    "* `overlaps`\n",
    "* `touches`\n",
    "* `within`\n",
    "* `covers`\n",
    "* `covered_by`\n",
    "\n",
    "\n",
    "Consulte aquí para ver la descripción de los métodos anteriores: https://shapely.readthedocs.io/en/stable/manual.html#predicates-and-relationships\n",
    "\n",
    "Consulte aquí para una descripción detallada de la semántica de las operaciones asociadas: https://en.wikipedia.org/wiki/DE-9IM\n",
    "</div>"
   ]
  },
  {
   "cell_type": "markdown",
   "metadata": {},
   "source": [
    "## Ejercicios:\n",
    "\n",
    "Partimos de nuevo de los conjuntos de datos de París para hacer ejercicio. Comencemos a importarlos nuevamente y a convertirlos directamente al CRS proyectado local:"
   ]
  },
  {
   "cell_type": "code",
   "execution_count": 25,
   "metadata": {},
   "outputs": [],
   "source": [
    "districts_Paris = geopandas.read_file(\"data/paris_districts.geojson\").to_crs(epsg=2154)\n",
    "stations_Paris = geopandas.read_file(\"data/paris_bike_stations.geojson\").to_crs(epsg=2154)"
   ]
  },
  {
   "cell_type": "markdown",
   "metadata": {},
   "source": [
    "<div class=\"alert alert-info\">\n",
    "\n",
    "**EJERCICIO 1: La Torre Eiffel**\n",
    "\n",
    "La Torre Eiffel es una torre de celosía de hierro construida en el siglo XIX y es probablemente la vista más emblemática de París.\n",
    "\n",
    "La ubicación de la Torre Eiffel es: x -> 648237,3 e y -> 6862271,9\n",
    "\n",
    "* Crear un objeto de tipo punto de Shapely con las coordenadas de la Torre Eiffel y asígnelo a una variable llamada `eiffel`. Imprimir el resultado.\n",
    "* Comprobar si la Torre Eiffel está ubicada dentro del distrito de _Montparnasse_ (proporcionado).\n",
    "* Comprobar si el distrito de _Montparnasse_ contiene la ubicación de la estación de bicicletas _14033 - DAGUERRE GASSENDI_.\n",
    "* Calcular la distancia entre la Torre Eiffel y la estación de bicicletas (nota: en este caso, la distancia se devuelve en metros).\n",
    "\n",
    "\n",
    "<details><summary>Consejos:</summary>\n",
    "\n",
    "* La clase `Point` está disponible en el submódulo `shapely.geometry`\n",
    "* Se puede crear un punto pasando las coordenadas x e y al constructor `Point()`.\n",
    "* El método `within()` comprueba si el objeto está ubicado dentro de la geometría pasada (usada como `geometry1.within(geometry2)`).\n",
    "* El método `contains()` comprueba si el objeto contiene la geometría pasada (usada como `geometry1.contains(geometry2)`).\n",
    "* Para calcular la distancia entre dos geometrías se puede utilizar el método `distance()` de una de las geometrías.\n",
    "\n",
    "</details>\n",
    "\n",
    "</div>"
   ]
  },
  {
   "cell_type": "code",
   "execution_count": null,
   "metadata": {},
   "outputs": [],
   "source": [
    "# Import the Point geometry\n",
    "from shapely.geometry import Point"
   ]
  },
  {
   "cell_type": "code",
   "execution_count": null,
   "metadata": {
    "tags": [
     "nbtutor-solution"
    ]
   },
   "outputs": [],
   "source": [
    "# %load solutions/03-exercise1.py"
   ]
  },
  {
   "cell_type": "code",
   "execution_count": null,
   "metadata": {
    "tags": [
     "nbtutor-solution"
    ]
   },
   "outputs": [],
   "source": [
    "# %load solutions/03-exercise2.py\n",
    "# Print the result"
   ]
  },
  {
   "cell_type": "code",
   "execution_count": null,
   "metadata": {
    "scrolled": true
   },
   "outputs": [],
   "source": [
    "districts_Paris.head()"
   ]
  },
  {
   "cell_type": "code",
   "execution_count": null,
   "metadata": {},
   "outputs": [],
   "source": [
    "stations_Paris.head()"
   ]
  },
  {
   "cell_type": "code",
   "execution_count": null,
   "metadata": {},
   "outputs": [],
   "source": [
    "# Accessing the Montparnasse geometry (Polygon)\n",
    "district_montparnasse = districts_Paris.loc[52, 'geometry']"
   ]
  },
  {
   "cell_type": "code",
   "execution_count": null,
   "metadata": {},
   "outputs": [],
   "source": [
    "# Accessing the geometry of bike_station 14033 - DAGUERRE GASSENDI (Polygon)\n",
    "bike_station = stations_Paris.loc[293, 'geometry']"
   ]
  },
  {
   "cell_type": "code",
   "execution_count": null,
   "metadata": {
    "tags": [
     "nbtutor-solution"
    ]
   },
   "outputs": [],
   "source": [
    "# %load solutions/03-exercise3.py"
   ]
  },
  {
   "cell_type": "code",
   "execution_count": null,
   "metadata": {
    "tags": [
     "nbtutor-solution"
    ]
   },
   "outputs": [],
   "source": [
    "# %load solutions/03-exercise4.py"
   ]
  },
  {
   "cell_type": "code",
   "execution_count": null,
   "metadata": {
    "tags": [
     "nbtutor-solution"
    ]
   },
   "outputs": [],
   "source": [
    "# %load solutions/03-exercise5.py"
   ]
  },
  {
   "cell_type": "markdown",
   "metadata": {},
   "source": [
    "<div class=\"alert alert-info\">\n",
    "\n",
    "**EJERCICIO 2: ¿En qué distrito se encuentra la Torre Eiffel?**\n",
    "\n",
    "Ya tenemos una geometría de tipo \"Punto\" para su ubicación y hemos comprobado que no está ubicado en el distrito de Montparnasse. Ahora determinaremos en cuál de los distritos de París *está* ubicado.\n",
    "\n",
    "* Crear una máscara booleana (o filtro) que indique si cada distrito contiene la Torre Eiffel o no. Llame al resultado `mask_Eiffel`.\n",
    "* Filtrar el dataframe `distrits_Paris` con la máscara booleana anterior e imprimir el resultado.\n",
    "\n",
    "\n",
    "<details><summary>Consejos:</summary>\n",
    "\n",
    "* Para verificar si cada polígono en el conjunto de datos de distritos contiene un solo punto, podemos usar el método `contains()` del GeoDataFrame `districts_Paris`.\n",
    "* Se puede filtrar las filas de un DataFrame según una condición pasando la máscara booleana a `df[..]`.\n",
    "\n",
    "</details>\n",
    "\n",
    "</div>"
   ]
  },
  {
   "cell_type": "code",
   "execution_count": null,
   "metadata": {},
   "outputs": [],
   "source": [
    "# Construct a point object for the Eiffel Tower\n",
    "eiffel = Point(648237.3, 6862271.9)"
   ]
  },
  {
   "cell_type": "code",
   "execution_count": null,
   "metadata": {
    "tags": [
     "nbtutor-solution"
    ]
   },
   "outputs": [],
   "source": [
    "# %load solutions/03-exercise6.py"
   ]
  },
  {
   "cell_type": "code",
   "execution_count": null,
   "metadata": {
    "tags": [
     "nbtutor-solution"
    ]
   },
   "outputs": [],
   "source": [
    "# %load solutions/03-exercise7.py"
   ]
  },
  {
   "cell_type": "markdown",
   "metadata": {},
   "source": [
    "<div class=\"alert alert-info\">\n",
    "\n",
    "**EJERCICIO 3: ¿A qué distancia está la estación de bicicletas más cercana?**\n",
    "\n",
    "Ahora nos interesan las estaciones de bicicletas cercanas a la Torre Eiffel. Para explorarlos, visualicemos la propia Torre Eiffel y las estaciones de bicicletas a 1 km.\n",
    "\n",
    "Para realizar la tarea, podemos calcular la distancia a la Torre Eiffel de cada una de las estaciones. Basándonos en este resultado, podemos crear una máscara que tome \"True\" si la estación está dentro de 1 km y \"False\" en caso contrario. Luego, usar la máscara para filtrar el GeoDataFrame de las estaciones. Finalmente, hacemos una visualización de este subconjunto. Este es el procedimiento que debe pensar antes de programar, y luego ir paso a paso:\n",
    "\n",
    "* Calcular la distancia a la Torre Eiffel para cada estación y llama al resultado \"dist_eiffel\" (o como quiera).\n",
    "* Imprimir la distancia a la estación más cercana (que es el mínimo de `dist_eiffel`).\n",
    "* Seleccionar las filas del GeoDataFrame `stations_Paris` en las que  la distancia a la Torre Eiffel es inferior a 1 km (tenga en cuenta que la distancia está en metros). Llame al resultado `stations_eiffel` (o como quiera).\n",
    "\n",
    "<details><summary>Consejos:</summary>\n",
    "\n",
    "* El método `.distance()` de un GeoDataFrame funciona por elementos: calcula la distancia entre cada geometría en el GeoDataFrame y la geometría pasada al método.\n",
    "* Una Serie tiene un método `.min()` para calcular el valor mínimo.\n",
    "* Para crear una máscara booleana basada en una condición, podemos hacer por ejemplo: `s < 100`.\n",
    "\n",
    "</details>\n",
    "\n",
    "</div>"
   ]
  },
  {
   "cell_type": "code",
   "execution_count": null,
   "metadata": {
    "tags": [
     "nbtutor-solution"
    ]
   },
   "outputs": [],
   "source": [
    "# %load solutions/03-exercise8.py"
   ]
  },
  {
   "cell_type": "code",
   "execution_count": null,
   "metadata": {
    "tags": [
     "nbtutor-solution"
    ]
   },
   "outputs": [],
   "source": [
    "# %load solutions/03-exercise9.py"
   ]
  },
  {
   "cell_type": "code",
   "execution_count": null,
   "metadata": {
    "tags": [
     "nbtutor-solution"
    ]
   },
   "outputs": [],
   "source": [
    "# %load solutions/03-exercise10.py"
   ]
  },
  {
   "cell_type": "code",
   "execution_count": null,
   "metadata": {},
   "outputs": [],
   "source": [
    "# Make a plot of the close-by bike stations using matplotlib and contextily\n",
    "import matplotlib.pyplot as plt\n",
    "import contextily\n",
    "\n",
    "fig, ax = plt.subplots(figsize=(8, 8))\n",
    "\n",
    "stations_eiffel.to_crs(epsg=3857).plot(ax=ax)\n",
    "\n",
    "geopandas.GeoSeries([eiffel], crs='EPSG:2154').to_crs(epsg=3857).plot(ax=ax, color='red')\n",
    "contextily.add_basemap(ax)\n",
    "ax.set_axis_off()\n",
    "plt.show()"
   ]
  },
  {
   "cell_type": "code",
   "execution_count": null,
   "metadata": {},
   "outputs": [],
   "source": [
    "# Make a plot of the close-by bike stations using matplotlib and contextily\n",
    "m = stations_eiffel.explore(marker_kwds=dict(radius=5))\n",
    "\n",
    "geopandas.GeoSeries([eiffel], crs='EPSG:2154').explore(m=m, color='red', marker_kwds=dict(radius=5))"
   ]
  },
  {
   "cell_type": "markdown",
   "metadata": {},
   "source": [
    "---"
   ]
  },
  {
   "cell_type": "markdown",
   "metadata": {},
   "source": [
    "## Uniones espaciales"
   ]
  },
  {
   "cell_type": "markdown",
   "metadata": {},
   "source": [
    "Hemos utilizado métodos de relaciones espaciales para comprobar en qué país se encontraba una determinada ciudad. Pero ¿y si queremos realizar esta misma operación para cada ciudad y país? Por ejemplo, podríamos querer saber para cada ciudad en qué país se encuentra.\n",
    "\n",
    "En jerga tabular, esto implicaría agregar una columna al dataframe de nuestras ciudades con el nombre del país en el que se encuentra. Dado que el nombre del país está contenido en el conjunto de datos de los países, necesitamos combinar (o \"join\") información de ambos conjuntos de datos. Unirse en una ubicación (en lugar de una columna compartida) se denomina \"unión espacial\".\n",
    "\n",
    "¿Cómo lo solucionaremos?: basándonos en los datasets de `countries` y `city`, determinaremos, para cada ciudad, el país en el que se encuentra.\n",
    "\n",
    "Para resolver este problema, utilizaremos el concepto de operación de \"spatial join\": combinar información de conjuntos de datos geoespaciales en función de su relación espacial."
   ]
  },
  {
   "cell_type": "markdown",
   "metadata": {},
   "source": [
    "### Resumen: unir dataframes\n",
    "\n",
    "Pandas proporciona funcionalidad para unir o fusionar dataframes de diferentes maneras. Puede consultar una descripción general en: https://www.geeksforgeeks.org/python-pandas-merging-joining-and-concatenating/ y documentación completa aquí: https://pandas.pydata.org/pandas-docs/stable/merging.html"
   ]
  },
  {
   "cell_type": "markdown",
   "metadata": {},
   "source": [
    "Para ilustrar el concepto de unir la información de dos datasets  con pandas, tomemos un pequeño subconjunto de nuestros conjuntos de datos de ciudades y países:"
   ]
  },
  {
   "cell_type": "code",
   "execution_count": null,
   "metadata": {},
   "outputs": [],
   "source": [
    "cities2 = cities[cities['name'].isin(['Bern', 'Brussels', 'London', 'Paris'])].copy()\n",
    "cities2['iso_a3'] = ['CHE', 'BEL', 'GBR', 'FRA']"
   ]
  },
  {
   "cell_type": "code",
   "execution_count": null,
   "metadata": {},
   "outputs": [],
   "source": [
    "cities2"
   ]
  },
  {
   "cell_type": "code",
   "execution_count": null,
   "metadata": {},
   "outputs": [],
   "source": [
    "countries2 = countries[['iso_a3', 'name', 'continent']]\n",
    "countries2.head()"
   ]
  },
  {
   "cell_type": "markdown",
   "metadata": {},
   "source": [
    "Agregamos una columna 'iso_a3' al dataset `cities`, indicando un código del país de la ciudad. Este código de país también está presente en el conjunto de datos `countries`, lo que nos permite fusionar esos dos *data frames* de datos en función de la columna común.\n",
    "\n",
    "Unir el dataset de `cities` con `countries` transferirá información adicional sobre los países (el nombre completo, el continente) al dataset `cities`, basándose en una clave común:"
   ]
  },
  {
   "cell_type": "code",
   "execution_count": null,
   "metadata": {},
   "outputs": [],
   "source": [
    "cities2.merge(countries2, on='iso_a3')"
   ]
  },
  {
   "cell_type": "markdown",
   "metadata": {},
   "source": [
    "**Pero** para este ejemplo ilustrativo agregamos la columna común manualmente, que no está presente en el conjunto de datos original. Sin embargo, todavía podemos saber cómo unir esos dos datasets en función de sus coordenadas espaciales."
   ]
  },
  {
   "cell_type": "markdown",
   "metadata": {},
   "source": [
    "### Resumen: relaciones espaciales entre objetos\n",
    "\n",
    "En el apartado anterior hemos visto la noción de relaciones espaciales entre objetos geométricos: *within*, *contains*, *intersects*, etc.\n",
    "\n",
    "En este caso, sabemos que cada una de las ciudades está ubicada *dentro* de uno de los países, o al revés, que cada país puede *contener* múltiples ciudades.\n",
    "\n",
    "Podemos probar dichas relaciones utilizando los métodos que hemos visto en el tema anterior:"
   ]
  },
  {
   "cell_type": "code",
   "execution_count": null,
   "metadata": {},
   "outputs": [],
   "source": [
    "france = countries.loc[countries['name'] == 'France', 'geometry'].squeeze()\n",
    "france"
   ]
  },
  {
   "cell_type": "code",
   "execution_count": null,
   "metadata": {},
   "outputs": [],
   "source": [
    "cities.within(france)"
   ]
  },
  {
   "cell_type": "markdown",
   "metadata": {},
   "source": [
    "Lo anterior nos da una serie booleana, que indica para cada punto en nuestro dataframes de `cities` si está ubicado dentro del área de Francia o no.\n",
    "Debido a que el resultado es una serie booleana, podemos usarla para filtrar el dataset original y así mostrar solo aquellas ciudades que realmente están dentro de Francia:"
   ]
  },
  {
   "cell_type": "code",
   "execution_count": null,
   "metadata": {},
   "outputs": [],
   "source": [
    "cities[cities.within(france)]"
   ]
  },
  {
   "cell_type": "markdown",
   "metadata": {},
   "source": [
    "<small>Nota: el resultado anterior es incorrecto, pero esto se debe simplemente a la tosquedad del conjunto de datos de los países.</small>"
   ]
  },
  {
   "cell_type": "markdown",
   "metadata": {},
   "source": [
    "Ahora podríamos repetir el análisis anterior para cada uno de los países y agregar una columna al dataframe de `cities` que indique este país. Sin embargo, eso sería tedioso de hacer manualmente y también es exactamente lo que nos proporciona la operación de unión espacial.\n",
    "\n"
   ]
  },
  {
   "cell_type": "markdown",
   "metadata": {},
   "source": [
    "## Operación de unión espacial\n",
    "\n",
    "<div class=\"alert alert-success\" estilo=\"font-size:100%\">\n",
    "\n",
    "**SPATIAL JOIN** = *transferir atributos de una capa a otra según su relación espacial* <br>\n",
    "\n",
    "\n",
    "Diferentes partes de esta operación:\n",
    "\n",
    "* El GeoDataFrame al que queremos agregar información\n",
    "* El GeoDataFrame que contiene la información que queremos agregar\n",
    "* La relación espacial que queremos usar para hacer coincidir ambos conjuntos de datos ('intersects', 'contains', 'within')\n",
    "* El tipo de unión: unión izquierda o interna (_left_ o _inner_ join)\n",
    "\n",
    "![](figs/illustration-spatial-join.svg)\n",
    "\n",
    "</div>"
   ]
  },
  {
   "cell_type": "markdown",
   "metadata": {},
   "source": [
    "En este caso, queremos unir el dataframe `cities` con la información del dataframe `countries`, en base a la relación espacial entre ambos conjuntos de datos.\n",
    "\n",
    "Usamos la función [`geopandas.sjoin`](https://geopandas.org/en/v0.5.0/reference/geopandas.sjoin.html):"
   ]
  },
  {
   "cell_type": "code",
   "execution_count": 26,
   "metadata": {},
   "outputs": [],
   "source": [
    "joined = geopandas.sjoin(cities, countries, predicate='within', how='left')"
   ]
  },
  {
   "cell_type": "code",
   "execution_count": 27,
   "metadata": {},
   "outputs": [
    {
     "data": {
      "text/html": [
       "<div>\n",
       "<style scoped>\n",
       "    .dataframe tbody tr th:only-of-type {\n",
       "        vertical-align: middle;\n",
       "    }\n",
       "\n",
       "    .dataframe tbody tr th {\n",
       "        vertical-align: top;\n",
       "    }\n",
       "\n",
       "    .dataframe thead th {\n",
       "        text-align: right;\n",
       "    }\n",
       "</style>\n",
       "<table border=\"1\" class=\"dataframe\">\n",
       "  <thead>\n",
       "    <tr style=\"text-align: right;\">\n",
       "      <th></th>\n",
       "      <th>name_left</th>\n",
       "      <th>geometry</th>\n",
       "      <th>index_right</th>\n",
       "      <th>iso_a3</th>\n",
       "      <th>name_right</th>\n",
       "      <th>continent</th>\n",
       "      <th>pop_est</th>\n",
       "      <th>gdp_md_est</th>\n",
       "    </tr>\n",
       "  </thead>\n",
       "  <tbody>\n",
       "    <tr>\n",
       "      <th>0</th>\n",
       "      <td>Vatican City</td>\n",
       "      <td>POINT (12.45339 41.90328)</td>\n",
       "      <td>79.0</td>\n",
       "      <td>ITA</td>\n",
       "      <td>Italy</td>\n",
       "      <td>Europe</td>\n",
       "      <td>6.213780e+07</td>\n",
       "      <td>2221000.0</td>\n",
       "    </tr>\n",
       "    <tr>\n",
       "      <th>1</th>\n",
       "      <td>San Marino</td>\n",
       "      <td>POINT (12.44177 43.9361)</td>\n",
       "      <td>79.0</td>\n",
       "      <td>ITA</td>\n",
       "      <td>Italy</td>\n",
       "      <td>Europe</td>\n",
       "      <td>6.213780e+07</td>\n",
       "      <td>2221000.0</td>\n",
       "    </tr>\n",
       "    <tr>\n",
       "      <th>2</th>\n",
       "      <td>Vaduz</td>\n",
       "      <td>POINT (9.51667 47.13372)</td>\n",
       "      <td>9.0</td>\n",
       "      <td>AUT</td>\n",
       "      <td>Austria</td>\n",
       "      <td>Europe</td>\n",
       "      <td>8.754413e+06</td>\n",
       "      <td>416600.0</td>\n",
       "    </tr>\n",
       "    <tr>\n",
       "      <th>3</th>\n",
       "      <td>Lobamba</td>\n",
       "      <td>POINT (31.2 -26.46667)</td>\n",
       "      <td>152.0</td>\n",
       "      <td>SWZ</td>\n",
       "      <td>Swaziland</td>\n",
       "      <td>Africa</td>\n",
       "      <td>1.467152e+06</td>\n",
       "      <td>11060.0</td>\n",
       "    </tr>\n",
       "    <tr>\n",
       "      <th>4</th>\n",
       "      <td>Luxembourg</td>\n",
       "      <td>POINT (6.13 49.61166)</td>\n",
       "      <td>97.0</td>\n",
       "      <td>LUX</td>\n",
       "      <td>Luxembourg</td>\n",
       "      <td>Europe</td>\n",
       "      <td>5.941300e+05</td>\n",
       "      <td>58740.0</td>\n",
       "    </tr>\n",
       "    <tr>\n",
       "      <th>...</th>\n",
       "      <td>...</td>\n",
       "      <td>...</td>\n",
       "      <td>...</td>\n",
       "      <td>...</td>\n",
       "      <td>...</td>\n",
       "      <td>...</td>\n",
       "      <td>...</td>\n",
       "      <td>...</td>\n",
       "    </tr>\n",
       "    <tr>\n",
       "      <th>238</th>\n",
       "      <td>Rio de Janeiro</td>\n",
       "      <td>POINT (-43.22697 -22.92308)</td>\n",
       "      <td>22.0</td>\n",
       "      <td>BRA</td>\n",
       "      <td>Brazil</td>\n",
       "      <td>South America</td>\n",
       "      <td>2.073534e+08</td>\n",
       "      <td>3081000.0</td>\n",
       "    </tr>\n",
       "    <tr>\n",
       "      <th>239</th>\n",
       "      <td>São Paulo</td>\n",
       "      <td>POINT (-46.62697 -23.55673)</td>\n",
       "      <td>22.0</td>\n",
       "      <td>BRA</td>\n",
       "      <td>Brazil</td>\n",
       "      <td>South America</td>\n",
       "      <td>2.073534e+08</td>\n",
       "      <td>3081000.0</td>\n",
       "    </tr>\n",
       "    <tr>\n",
       "      <th>240</th>\n",
       "      <td>Sydney</td>\n",
       "      <td>POINT (151.18323 -33.91807)</td>\n",
       "      <td>8.0</td>\n",
       "      <td>AUS</td>\n",
       "      <td>Australia</td>\n",
       "      <td>Oceania</td>\n",
       "      <td>2.323241e+07</td>\n",
       "      <td>1189000.0</td>\n",
       "    </tr>\n",
       "    <tr>\n",
       "      <th>241</th>\n",
       "      <td>Singapore</td>\n",
       "      <td>POINT (103.85387 1.29498)</td>\n",
       "      <td>111.0</td>\n",
       "      <td>MYS</td>\n",
       "      <td>Malaysia</td>\n",
       "      <td>Asia</td>\n",
       "      <td>3.138199e+07</td>\n",
       "      <td>863000.0</td>\n",
       "    </tr>\n",
       "    <tr>\n",
       "      <th>242</th>\n",
       "      <td>Hong Kong</td>\n",
       "      <td>POINT (114.18306 22.30693)</td>\n",
       "      <td>30.0</td>\n",
       "      <td>CHN</td>\n",
       "      <td>China</td>\n",
       "      <td>Asia</td>\n",
       "      <td>1.379303e+09</td>\n",
       "      <td>21140000.0</td>\n",
       "    </tr>\n",
       "  </tbody>\n",
       "</table>\n",
       "<p>243 rows × 8 columns</p>\n",
       "</div>"
      ],
      "text/plain": [
       "          name_left                     geometry  index_right iso_a3  \\\n",
       "0      Vatican City    POINT (12.45339 41.90328)         79.0    ITA   \n",
       "1        San Marino     POINT (12.44177 43.9361)         79.0    ITA   \n",
       "2             Vaduz     POINT (9.51667 47.13372)          9.0    AUT   \n",
       "3           Lobamba       POINT (31.2 -26.46667)        152.0    SWZ   \n",
       "4        Luxembourg        POINT (6.13 49.61166)         97.0    LUX   \n",
       "..              ...                          ...          ...    ...   \n",
       "238  Rio de Janeiro  POINT (-43.22697 -22.92308)         22.0    BRA   \n",
       "239       São Paulo  POINT (-46.62697 -23.55673)         22.0    BRA   \n",
       "240          Sydney  POINT (151.18323 -33.91807)          8.0    AUS   \n",
       "241       Singapore    POINT (103.85387 1.29498)        111.0    MYS   \n",
       "242       Hong Kong   POINT (114.18306 22.30693)         30.0    CHN   \n",
       "\n",
       "     name_right      continent       pop_est  gdp_md_est  \n",
       "0         Italy         Europe  6.213780e+07   2221000.0  \n",
       "1         Italy         Europe  6.213780e+07   2221000.0  \n",
       "2       Austria         Europe  8.754413e+06    416600.0  \n",
       "3     Swaziland         Africa  1.467152e+06     11060.0  \n",
       "4    Luxembourg         Europe  5.941300e+05     58740.0  \n",
       "..          ...            ...           ...         ...  \n",
       "238      Brazil  South America  2.073534e+08   3081000.0  \n",
       "239      Brazil  South America  2.073534e+08   3081000.0  \n",
       "240   Australia        Oceania  2.323241e+07   1189000.0  \n",
       "241    Malaysia           Asia  3.138199e+07    863000.0  \n",
       "242       China           Asia  1.379303e+09  21140000.0  \n",
       "\n",
       "[243 rows x 8 columns]"
      ]
     },
     "execution_count": 27,
     "metadata": {},
     "output_type": "execute_result"
    }
   ],
   "source": [
    "joined"
   ]
  },
  {
   "cell_type": "code",
   "execution_count": 28,
   "metadata": {},
   "outputs": [
    {
     "data": {
      "text/html": [
       "<div>\n",
       "<style scoped>\n",
       "    .dataframe tbody tr th:only-of-type {\n",
       "        vertical-align: middle;\n",
       "    }\n",
       "\n",
       "    .dataframe tbody tr th {\n",
       "        vertical-align: top;\n",
       "    }\n",
       "\n",
       "    .dataframe thead th {\n",
       "        text-align: right;\n",
       "    }\n",
       "</style>\n",
       "<table border=\"1\" class=\"dataframe\">\n",
       "  <thead>\n",
       "    <tr style=\"text-align: right;\">\n",
       "      <th></th>\n",
       "      <th>name_left</th>\n",
       "      <th>geometry</th>\n",
       "      <th>index_right</th>\n",
       "      <th>iso_a3</th>\n",
       "      <th>name_right</th>\n",
       "      <th>continent</th>\n",
       "      <th>pop_est</th>\n",
       "      <th>gdp_md_est</th>\n",
       "    </tr>\n",
       "  </thead>\n",
       "  <tbody>\n",
       "    <tr>\n",
       "      <th>10</th>\n",
       "      <td>Monaco</td>\n",
       "      <td>POINT (7.40691 43.73965)</td>\n",
       "      <td>55.0</td>\n",
       "      <td>FRA</td>\n",
       "      <td>France</td>\n",
       "      <td>Europe</td>\n",
       "      <td>67106161.0</td>\n",
       "      <td>2699000.0</td>\n",
       "    </tr>\n",
       "    <tr>\n",
       "      <th>13</th>\n",
       "      <td>Andorra</td>\n",
       "      <td>POINT (1.51649 42.5)</td>\n",
       "      <td>55.0</td>\n",
       "      <td>FRA</td>\n",
       "      <td>France</td>\n",
       "      <td>Europe</td>\n",
       "      <td>67106161.0</td>\n",
       "      <td>2699000.0</td>\n",
       "    </tr>\n",
       "    <tr>\n",
       "      <th>186</th>\n",
       "      <td>Geneva</td>\n",
       "      <td>POINT (6.14003 46.21001)</td>\n",
       "      <td>55.0</td>\n",
       "      <td>FRA</td>\n",
       "      <td>France</td>\n",
       "      <td>Europe</td>\n",
       "      <td>67106161.0</td>\n",
       "      <td>2699000.0</td>\n",
       "    </tr>\n",
       "    <tr>\n",
       "      <th>235</th>\n",
       "      <td>Paris</td>\n",
       "      <td>POINT (2.33139 48.86864)</td>\n",
       "      <td>55.0</td>\n",
       "      <td>FRA</td>\n",
       "      <td>France</td>\n",
       "      <td>Europe</td>\n",
       "      <td>67106161.0</td>\n",
       "      <td>2699000.0</td>\n",
       "    </tr>\n",
       "  </tbody>\n",
       "</table>\n",
       "</div>"
      ],
      "text/plain": [
       "    name_left                  geometry  index_right iso_a3 name_right  \\\n",
       "10     Monaco  POINT (7.40691 43.73965)         55.0    FRA     France   \n",
       "13    Andorra      POINT (1.51649 42.5)         55.0    FRA     France   \n",
       "186    Geneva  POINT (6.14003 46.21001)         55.0    FRA     France   \n",
       "235     Paris  POINT (2.33139 48.86864)         55.0    FRA     France   \n",
       "\n",
       "    continent     pop_est  gdp_md_est  \n",
       "10     Europe  67106161.0   2699000.0  \n",
       "13     Europe  67106161.0   2699000.0  \n",
       "186    Europe  67106161.0   2699000.0  \n",
       "235    Europe  67106161.0   2699000.0  "
      ]
     },
     "execution_count": 28,
     "metadata": {},
     "output_type": "execute_result"
    }
   ],
   "source": [
    "joined[joined[\"name_right\"] == \"France\"]"
   ]
  },
  {
   "cell_type": "code",
   "execution_count": 29,
   "metadata": {},
   "outputs": [
    {
     "data": {
      "text/plain": [
       "continent\n",
       "Asia             59\n",
       "Africa           57\n",
       "Europe           46\n",
       "North America    26\n",
       "South America    14\n",
       "Oceania           8\n",
       "Name: count, dtype: int64"
      ]
     },
     "execution_count": 29,
     "metadata": {},
     "output_type": "execute_result"
    }
   ],
   "source": [
    "joined['continent'].value_counts()"
   ]
  },
  {
   "cell_type": "markdown",
   "metadata": {},
   "source": [
    "## Ejercicios\n",
    "\n",
    "Usaremos nuevamente los conjuntos de datos de París para hacer algunos ejercicios. Empecemos a importarlos:"
   ]
  },
  {
   "cell_type": "code",
   "execution_count": 30,
   "metadata": {},
   "outputs": [],
   "source": [
    "districts_Paris = geopandas.read_file(\"data/paris_districts.geojson\").to_crs(epsg=2154)\n",
    "stations_Paris = geopandas.read_file(\"data/paris_bike_stations.geojson\").to_crs(epsg=2154)"
   ]
  },
  {
   "cell_type": "markdown",
   "metadata": {},
   "source": [
    "<div class=\"alert alert-info\">\n",
    "\n",
    "**EJERCICIO 4:**\n",
    "\n",
    "* Determinar para cada estación de bicicletas en qué distrito se encuentra (¡utilizando una unión espacial!). Llame al resultado `joined`.\n",
    "\n",
    "<details><summary>Consejos</summary>\n",
    "\n",
    "- La función `geopandas.sjoin()` toma como primer argumento el dataframe al que queremos añadir información, y como segundo argumento el dataframe que contiene esta información adicional.\n",
    "\n",
    "</details>\n",
    "\n",
    "</div>"
   ]
  },
  {
   "cell_type": "code",
   "execution_count": null,
   "metadata": {
    "tags": [
     "nbtutor-solution"
    ]
   },
   "outputs": [],
   "source": [
    "# %load solutions/03-exercise11.py"
   ]
  },
  {
   "cell_type": "code",
   "execution_count": null,
   "metadata": {
    "tags": [
     "nbtutor-solution"
    ]
   },
   "outputs": [],
   "source": [
    "# %load solutions/03-exercise12.py"
   ]
  },
  {
   "cell_type": "markdown",
   "metadata": {},
   "source": [
    "<div class=\"alert alert-info\">\n",
    "\n",
    "**EJERCICIO 5: Mapa de densidad de árboles por distrito (I)**\n",
    "\n",
    "Utilizando un conjunto de datos de todos los árboles en los espacios públicos de París, el objetivo es crear un mapa de la densidad de árboles por distrito. Primero debemos averiguar cuántos árboles contiene cada distrito, y usaremos este resultado para calcular la densidad y crear un mapa.\n",
    "\n",
    "Para obtener el recuento de árboles por distrito, primero necesitamos saber en qué distrito se encuentra cada árbol, lo cual podemos hacer con una unión espacial. Luego, utilizando el resultado de la unión espacial, calcularemos la cantidad de árboles ubicados en cada distrito usando la funcionalidad 'group-by' de pandas.\n",
    "\n",
    "- Importar el conjunto de datos de árboles `\"paris_trees.gpkg\"` y llame al resultado `trees_Paris`.\n",
    "- Leer también el conjunto de datos de distritos que hemos visto anteriormente (`\"paris_districts.geojson\"`) y llámelo `distrits_Paris`. Convertir este dataset al mismo CRS que el conjunto de datos de árboles.\n",
    "- Agregar una columna con el `'district_name'` al conjunto de datos de árboles usando una unión espacial. Llame al resultado `joined`.\n",
    "\n",
    "<detalles><summary>Consejos:</summary>\n",
    "\n",
    "- Recuerde, podemos realizar una unión espacial con la función `geopandas.sjoin()`.\n",
    "- `geopandas.sjoin()` toma como primer argumento el dataframe al que queremos agregar información, y como segundo argumento el dataframe que contiene esta información adicional.\n",
    "- El argumento `predicate` se usa para especificar qué relación espacial entre ambos datasets queremos usar para unir (las opciones son `'intersects'`, `'contains'`, `'within'`).\n",
    "\n",
    "</details>\n",
    "\n",
    "</div>"
   ]
  },
  {
   "cell_type": "code",
   "execution_count": null,
   "metadata": {
    "tags": [
     "nbtutor-solution"
    ]
   },
   "outputs": [],
   "source": [
    "# %load solutions/03-exercise13.py"
   ]
  },
  {
   "cell_type": "code",
   "execution_count": null,
   "metadata": {
    "tags": [
     "nbtutor-solution"
    ]
   },
   "outputs": [],
   "source": [
    "# %load solutions/03-exercise14.py"
   ]
  },
  {
   "cell_type": "code",
   "execution_count": null,
   "metadata": {},
   "outputs": [],
   "source": [
    "districts_Paris"
   ]
  },
  {
   "cell_type": "code",
   "execution_count": null,
   "metadata": {
    "tags": [
     "nbtutor-solution"
    ]
   },
   "outputs": [],
   "source": [
    "# %load solutions/03-exercise15.py"
   ]
  },
  {
   "cell_type": "markdown",
   "metadata": {},
   "source": [
    "<div class=\"alert alert-info\">\n",
    "\n",
    "**EJERCICIO 6: Mapa de densidad de árboles por distrito (II)**\n",
    "\n",
    "Calcule el número de árboles ubicados en cada distrito: agrupe el DataFrame `joined` por la columna `district_name` y calcule el tamaño de cada grupo. Llame a la serie resultante `trees_by_district`. <br>\n",
    "\n",
    "Luego, convierta `trees_by_district` en un DataFrame para el siguiente ejercicio.\n",
    "\n",
    "<details><summary>Consejos:</summary>\n",
    "\n",
    "- La sintaxis general de `group-by` en pandas es: `df.groupby('key').aggregation_method()`, sustituyendo 'key' y 'aggregation_method' con el nombre de columna y el método apropiados.\n",
    "- Para saber el tamaño de los grupos, podemos utilizar el método `.size()`.\n",
    "\n",
    "</details>\n",
    "\n",
    "</div>"
   ]
  },
  {
   "cell_type": "code",
   "execution_count": null,
   "metadata": {
    "tags": [
     "nbtutor-solution"
    ]
   },
   "outputs": [],
   "source": [
    "# %load solutions/03-exercise16.py"
   ]
  },
  {
   "cell_type": "code",
   "execution_count": null,
   "metadata": {},
   "outputs": [],
   "source": [
    "# Convert the series to a DataFrame and specify column name\n",
    "trees_by_district = trees_by_district.to_frame(name='n_trees')"
   ]
  },
  {
   "cell_type": "code",
   "execution_count": null,
   "metadata": {},
   "outputs": [],
   "source": [
    "# Inspect the result\n",
    "trees_by_district.head()"
   ]
  },
  {
   "cell_type": "markdown",
   "metadata": {},
   "source": [
    "<div class=\"alert alert-info\">\n",
    "\n",
    "**EJERCICIO 7: Mapa de densidad de árboles por distrito (III)**\n",
    "\n",
    "Ahora que hemos obtenido el número de árboles por distrito, podemos hacer el mapa de los distritos coloreados por la densidad de árboles.\n",
    "\n",
    "Para esto, primero necesitamos fusionar la cantidad de árboles en cada distrito que calculamos en el paso anterior (`trees_by_district`) con el conjunto de datos de los distritos. Usaremos la función [`pd.merge()`](https://pandas.pydata.org/pandas-docs/stable/reference/api/pandas.merge.html) para unir dos dataframes basados en una columna común.\n",
    "\n",
    "Dado que no todos los distritos tienen el mismo tamaño, para la visualización debemos comparar la densidad de árboles: el número de árboles en relación con el área.\n",
    "\n",
    "- Utilizar la función `pd.merge()` para fusionar los dataframes `districts` y `trees_by_district` en la columna `'district_name'`. Llame al resultado `distritos_tree`.\n",
    "- Agregar una columna `'n_trees_per_area'` al dataframe `'districts_trees`, basada en la columna `'n_trees'` dividida por el área.\n",
    "- Hacer un gráfico del dataframe `districts_trees`, usando la columna `'n_trees_per_area'` para determinar el color de los polígonos.\n",
    "\n",
    "\n",
    "<details><summary>Consejos</summary>\n",
    "\n",
    "- La función pandas `pd.merge()` toma los dos dataframes que desea fusionar como los dos primeros argumentos.\n",
    "- El nombre de la columna en la que desea fusionar ambos conjuntos de datos se puede especificar con la palabra clave `on`.\n",
    "- Se puede acceder a una columna de un DataFrame con `df['col']`, mientras que se puede agregar una columna a un DataFrame con `df['new_col'] = valores` donde `valores` puede ser el resultado de un cálculo.\n",
    "- Recuerde, el área de cada geometría en un GeoSeries o GeoDataFrame se puede recuperar usando el atributo `area`. Por tanto, considerando un GeoDataFrame `gdf`, entonces `gdf.geometry.area` devolverá una Serie con el área de cada geometría.\n",
    "- Podemos utilizar el método `.plot()` de un GeoDataFrame para realizar una visualización de las geometrías.\n",
    "- Para usar una de las columnas del GeoDataFrame para determinar el color de relleno, use la palabra clave `column=`.\n",
    "\n",
    "\n",
    "</details>\n",
    "\n",
    "</div>"
   ]
  },
  {
   "cell_type": "code",
   "execution_count": null,
   "metadata": {
    "tags": [
     "nbtutor-solution"
    ]
   },
   "outputs": [],
   "source": [
    "# %load solutions/03-exercise17.py"
   ]
  },
  {
   "cell_type": "code",
   "execution_count": null,
   "metadata": {
    "tags": [
     "nbtutor-solution"
    ]
   },
   "outputs": [],
   "source": [
    "# %load solutions/03-exercise18.py"
   ]
  },
  {
   "cell_type": "code",
   "execution_count": null,
   "metadata": {
    "tags": [
     "nbtutor-solution"
    ]
   },
   "outputs": [],
   "source": [
    "# %load solutions/03-exercise19.py"
   ]
  },
  {
   "cell_type": "markdown",
   "metadata": {},
   "source": [
    "<small><small><i>\n",
    "Los notebooks de este tutorial están basados parcialmente en el material de Joris Van den Bossche @ **[GitHub](https://jorisvandenbossche.github.io/)**\n",
    "</i></small></small>"
   ]
  },
  {
   "cell_type": "markdown",
   "metadata": {},
   "source": [
    "> *© 2025, Julia Clemente Párraga (<mailto:juliaclementep@gmail.com>). Licensed under [MIT License](https://opensource.org/license/mit/)*"
   ]
  }
 ],
 "metadata": {
  "kernelspec": {
   "display_name": "Python (advprog)",
   "language": "python",
   "name": "advprog"
  },
  "language_info": {
   "codemirror_mode": {
    "name": "ipython",
    "version": 3
   },
   "file_extension": ".py",
   "mimetype": "text/x-python",
   "name": "python",
   "nbconvert_exporter": "python",
   "pygments_lexer": "ipython3",
   "version": "3.12.8"
  },
  "widgets": {
   "application/vnd.jupyter.widget-state+json": {
    "state": {},
    "version_major": 2,
    "version_minor": 0
   }
  }
 },
 "nbformat": 4,
 "nbformat_minor": 4
}
