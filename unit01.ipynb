{
 "cells": [
  {
   "cell_type": "markdown",
   "id": "f2296514-4598-4b1d-a21d-f95b02933e2f",
   "metadata": {},
   "source": [
    "<table style=\"width: 100%; border: none;\">\n",
    "    <tr>\n",
    "        <!-- Columna para la imagen -->\n",
    "        <td style=\"width: 100px; vertical-align: top; padding-right: 20px;\">\n",
    "            <img src=\"figs/uah1.png\" style=\"width: 80px; height: auto; border-radius: 50%; box-shadow: 0 4px 6px rgba(0, 0, 0, 0.1);\">\n",
    "        </td>\n",
    "        <!-- Columna para los textos -->\n",
    "        <td style=\"vertical-align: top;\">\n",
    "            <h1 style=\"font-size: 32px; color: #003366; margin: 0;\">Geospatial Data Science</h1>\n",
    "            <h2 style=\"font-size: 24px; color: #005599; margin-top: 10px; margin-bottom: 10px;\">Tema 1: Objetos geométricos</h2>\n",
    "            <h3 style=\"font-size: 18px; color: #666; margin-bottom: 10px; font-weight: normal;\">\n",
    "                Advanced Programming · Máster en Tecnologías de la Información Geográfica\n",
    "            </h3>\n",
    "            <h4 style=\"font-size: 16px; color: #444;\">Profesora: <span style=\"font-weight: bold; color: #222;\">Julia Clemente</span></h4>\n",
    "        </td>\n",
    "    </tr>\n",
    "</table>\n"
   ]
  },
  {
   "cell_type": "markdown",
   "id": "3fd440f7",
   "metadata": {},
   "source": [
    "# Imports"
   ]
  },
  {
   "cell_type": "code",
   "execution_count": 2,
   "id": "ab748c51",
   "metadata": {},
   "outputs": [],
   "source": [
    "import geopandas as gpd # para manejo de datos. Más adelante se profundizará en este paquete\n",
    "import contextily as ctx # para mostrar gráficos. En la siguiente sesión se tratará"
   ]
  },
  {
   "cell_type": "markdown",
   "id": "d71093ef",
   "metadata": {
    "tags": []
   },
   "source": [
    "# Caso de estudio: Brote de cólera de 1854"
   ]
  },
  {
   "cell_type": "markdown",
   "id": "88e5b0f8",
   "metadata": {},
   "source": [
    "Primero realizaremos una exploración de los datos:"
   ]
  },
  {
   "cell_type": "code",
   "execution_count": 3,
   "id": "06e2130f",
   "metadata": {
    "scrolled": true
   },
   "outputs": [
    {
     "name": "stderr",
     "output_type": "stream",
     "text": [
      "\"ls\" no se reconoce como un comando interno o externo,\n",
      "programa o archivo por lotes ejecutable.\n"
     ]
    }
   ],
   "source": [
    "!ls data/SnowGIS/"
   ]
  },
  {
   "cell_type": "markdown",
   "id": "47d74413",
   "metadata": {},
   "source": [
    "Tipos de formatos:\n",
    "- [shapefiles](https://en.wikipedia.org/wiki/Shapefile) - normalmente son grupos de archivos que contienen datos vectoriales geoespaciales, con el mismo nombre, pero extensiones como .shp, .shx, .dbf. Nos vamos a centrar en el archivo .shp que contiene las características geométricas.\n",
    "\n",
    "<img src=\"figs/shapeinfografia.jpg\" width=\"400\">\n",
    "\n",
    "Fuente: https://www.facebook.com/memesgis/posts/conoce-sobre-los-shapefile-/1151359318575570/\n",
    "\n",
    "- Imágenes raster in [tif format](https://en.wikipedia.org/wiki/TIFF)"
   ]
  },
  {
   "cell_type": "markdown",
   "id": "381c2695",
   "metadata": {},
   "source": [
    "<img src=\"figs/modelsrastervector.jpg\">\n",
    "\n",
    "Fuente: https://www.researchgate.net/publication/316879160_Three-dimensional_anatomical_atlas_of_the_human_body/figures?lo=1"
   ]
  },
  {
   "cell_type": "markdown",
   "id": "817a9fd1",
   "metadata": {},
   "source": [
    "## Cargar los datos y garantizar la coherencia del sistema de referencia de coordenadas (CRS)"
   ]
  },
  {
   "cell_type": "markdown",
   "id": "f6ab2cfc",
   "metadata": {},
   "source": [
    "Cargar los datos - muertes y bombas de agua:"
   ]
  },
  {
   "cell_type": "code",
   "execution_count": 4,
   "id": "6aeeaf73",
   "metadata": {},
   "outputs": [],
   "source": [
    "deaths_df = gpd.read_file('data/SnowGIS/Cholera_Deaths.shp')\n",
    "pumps_df = gpd.read_file('data/SnowGIS/Pumps.shp')"
   ]
  },
  {
   "cell_type": "code",
   "execution_count": 5,
   "id": "cc5e787d",
   "metadata": {},
   "outputs": [
    {
     "data": {
      "text/html": [
       "<div>\n",
       "<style scoped>\n",
       "    .dataframe tbody tr th:only-of-type {\n",
       "        vertical-align: middle;\n",
       "    }\n",
       "\n",
       "    .dataframe tbody tr th {\n",
       "        vertical-align: top;\n",
       "    }\n",
       "\n",
       "    .dataframe thead th {\n",
       "        text-align: right;\n",
       "    }\n",
       "</style>\n",
       "<table border=\"1\" class=\"dataframe\">\n",
       "  <thead>\n",
       "    <tr style=\"text-align: right;\">\n",
       "      <th></th>\n",
       "      <th>Id</th>\n",
       "      <th>Count</th>\n",
       "      <th>geometry</th>\n",
       "    </tr>\n",
       "  </thead>\n",
       "  <tbody>\n",
       "    <tr>\n",
       "      <th>0</th>\n",
       "      <td>0</td>\n",
       "      <td>3</td>\n",
       "      <td>POINT (529308.741 181031.352)</td>\n",
       "    </tr>\n",
       "    <tr>\n",
       "      <th>1</th>\n",
       "      <td>0</td>\n",
       "      <td>2</td>\n",
       "      <td>POINT (529312.164 181025.172)</td>\n",
       "    </tr>\n",
       "    <tr>\n",
       "      <th>2</th>\n",
       "      <td>0</td>\n",
       "      <td>1</td>\n",
       "      <td>POINT (529314.382 181020.294)</td>\n",
       "    </tr>\n",
       "    <tr>\n",
       "      <th>3</th>\n",
       "      <td>0</td>\n",
       "      <td>1</td>\n",
       "      <td>POINT (529317.38 181014.259)</td>\n",
       "    </tr>\n",
       "    <tr>\n",
       "      <th>4</th>\n",
       "      <td>0</td>\n",
       "      <td>4</td>\n",
       "      <td>POINT (529320.675 181007.872)</td>\n",
       "    </tr>\n",
       "  </tbody>\n",
       "</table>\n",
       "</div>"
      ],
      "text/plain": [
       "   Id  Count                       geometry\n",
       "0   0      3  POINT (529308.741 181031.352)\n",
       "1   0      2  POINT (529312.164 181025.172)\n",
       "2   0      1  POINT (529314.382 181020.294)\n",
       "3   0      1   POINT (529317.38 181014.259)\n",
       "4   0      4  POINT (529320.675 181007.872)"
      ]
     },
     "execution_count": 5,
     "metadata": {},
     "output_type": "execute_result"
    }
   ],
   "source": [
    "deaths_df.head()"
   ]
  },
  {
   "cell_type": "code",
   "execution_count": 5,
   "id": "91590320",
   "metadata": {},
   "outputs": [
    {
     "data": {
      "text/plain": [
       "geopandas.geodataframe.GeoDataFrame"
      ]
     },
     "execution_count": 5,
     "metadata": {},
     "output_type": "execute_result"
    }
   ],
   "source": [
    "type(deaths_df)"
   ]
  },
  {
   "cell_type": "markdown",
   "id": "1449a436",
   "metadata": {},
   "source": [
    "Podemos ver cuántas muertes han ocurrido y dónde. Son puntos, con una coordenada x y una y. ¿Qué son? El CRS del archivo shape nos lo dice:"
   ]
  },
  {
   "cell_type": "code",
   "execution_count": 6,
   "id": "bc46f5b0",
   "metadata": {},
   "outputs": [
    {
     "data": {
      "text/plain": [
       "<Projected CRS: EPSG:27700>\n",
       "Name: OSGB36 / British National Grid\n",
       "Axis Info [cartesian]:\n",
       "- E[east]: Easting (metre)\n",
       "- N[north]: Northing (metre)\n",
       "Area of Use:\n",
       "- name: United Kingdom (UK) - offshore to boundary of UKCS within 49°45'N to 61°N and 9°W to 2°E; onshore Great Britain (England, Wales and Scotland). Isle of Man onshore.\n",
       "- bounds: (-9.01, 49.75, 2.01, 61.01)\n",
       "Coordinate Operation:\n",
       "- name: British National Grid\n",
       "- method: Transverse Mercator\n",
       "Datum: Ordnance Survey of Great Britain 1936\n",
       "- Ellipsoid: Airy 1830\n",
       "- Prime Meridian: Greenwich"
      ]
     },
     "execution_count": 6,
     "metadata": {},
     "output_type": "execute_result"
    }
   ],
   "source": [
    "deaths_df.crs"
   ]
  },
  {
   "cell_type": "markdown",
   "id": "58d1ceb1",
   "metadata": {},
   "source": [
    "<table><tr><td><img src=\"figs/osgb36_01.png\" width=300><td><img src=\"figs/osgb36_02.png\" width=300>"
   ]
  },
  {
   "cell_type": "markdown",
   "id": "e2bfd661",
   "metadata": {},
   "source": [
    "El *Coordinate Reference System* (CRS) maneja las coordenadas: ¿Cómo se proyectan las coordenadas de una esfera en el plano?"
   ]
  },
  {
   "cell_type": "markdown",
   "id": "d7f4d5d8",
   "metadata": {},
   "source": [
    "Las coordenadas de la esfera son longitud y latitud. Sin embargo, nuestros mapas son planos, no esferas, de ahí que debemos proyectar. Para realizar GDS, uno debe estar familiarizado con los siguientes términos:  \n",
    "\n",
    "https://en.wikipedia.org/wiki/Longitude  \n",
    "https://en.wikipedia.org/wiki/Latitude  \n",
    "https://en.wikipedia.org/wiki/Prime_meridian  \n",
    "https://en.wikipedia.org/wiki/Map_projection  \n",
    "https://en.wikipedia.org/wiki/Earth_radius  \n",
    "https://en.wikipedia.org/wiki/Geoid  \n",
    "https://en.wikipedia.org/wiki/Spatial_reference_system  \n",
    "https://en.wikipedia.org/wiki/World_Geodetic_System  \n",
    "https://en.wikipedia.org/wiki/Grid_reference_system  \n",
    "https://en.wikipedia.org/wiki/Georeferencing\n",
    "\n",
    "Analizaremos estos conceptos y las implementaciones de Python en detalle en esta y la próxima sesión."
   ]
  },
  {
   "cell_type": "markdown",
   "id": "a75b51cc",
   "metadata": {},
   "source": [
    "Ahora veamos las bombas. También son puntos:"
   ]
  },
  {
   "cell_type": "code",
   "execution_count": 7,
   "id": "2b036c22",
   "metadata": {},
   "outputs": [
    {
     "data": {
      "text/html": [
       "<div>\n",
       "<style scoped>\n",
       "    .dataframe tbody tr th:only-of-type {\n",
       "        vertical-align: middle;\n",
       "    }\n",
       "\n",
       "    .dataframe tbody tr th {\n",
       "        vertical-align: top;\n",
       "    }\n",
       "\n",
       "    .dataframe thead th {\n",
       "        text-align: right;\n",
       "    }\n",
       "</style>\n",
       "<table border=\"1\" class=\"dataframe\">\n",
       "  <thead>\n",
       "    <tr style=\"text-align: right;\">\n",
       "      <th></th>\n",
       "      <th>Id</th>\n",
       "      <th>geometry</th>\n",
       "    </tr>\n",
       "  </thead>\n",
       "  <tbody>\n",
       "    <tr>\n",
       "      <th>0</th>\n",
       "      <td>0</td>\n",
       "      <td>POINT (529396.539 181025.063)</td>\n",
       "    </tr>\n",
       "    <tr>\n",
       "      <th>1</th>\n",
       "      <td>0</td>\n",
       "      <td>POINT (529192.538 181079.391)</td>\n",
       "    </tr>\n",
       "    <tr>\n",
       "      <th>2</th>\n",
       "      <td>0</td>\n",
       "      <td>POINT (529183.74 181193.735)</td>\n",
       "    </tr>\n",
       "    <tr>\n",
       "      <th>3</th>\n",
       "      <td>0</td>\n",
       "      <td>POINT (529748.911 180924.207)</td>\n",
       "    </tr>\n",
       "    <tr>\n",
       "      <th>4</th>\n",
       "      <td>0</td>\n",
       "      <td>POINT (529613.205 180896.804)</td>\n",
       "    </tr>\n",
       "    <tr>\n",
       "      <th>5</th>\n",
       "      <td>0</td>\n",
       "      <td>POINT (529453.586 180826.353)</td>\n",
       "    </tr>\n",
       "    <tr>\n",
       "      <th>6</th>\n",
       "      <td>0</td>\n",
       "      <td>POINT (529593.727 180660.455)</td>\n",
       "    </tr>\n",
       "    <tr>\n",
       "      <th>7</th>\n",
       "      <td>0</td>\n",
       "      <td>POINT (529296.104 180794.849)</td>\n",
       "    </tr>\n",
       "  </tbody>\n",
       "</table>\n",
       "</div>"
      ],
      "text/plain": [
       "   Id                       geometry\n",
       "0   0  POINT (529396.539 181025.063)\n",
       "1   0  POINT (529192.538 181079.391)\n",
       "2   0   POINT (529183.74 181193.735)\n",
       "3   0  POINT (529748.911 180924.207)\n",
       "4   0  POINT (529613.205 180896.804)\n",
       "5   0  POINT (529453.586 180826.353)\n",
       "6   0  POINT (529593.727 180660.455)\n",
       "7   0  POINT (529296.104 180794.849)"
      ]
     },
     "execution_count": 7,
     "metadata": {},
     "output_type": "execute_result"
    }
   ],
   "source": [
    "pumps_df"
   ]
  },
  {
   "cell_type": "markdown",
   "id": "60d1b9bd",
   "metadata": {},
   "source": [
    "Y **deben** tener el mismo CRS las dos fuentes de datos para mantener la misma referencia de los datos.\n",
    "\n",
    "Cada CRS tiene un código estandarizado, el código EPSG: https://epsg.io/\n",
    "Si los comparamos, deberían coincidir. "
   ]
  },
  {
   "cell_type": "code",
   "execution_count": 6,
   "id": "3cabb0b2",
   "metadata": {},
   "outputs": [
    {
     "data": {
      "text/plain": [
       "27700"
      ]
     },
     "execution_count": 6,
     "metadata": {},
     "output_type": "execute_result"
    }
   ],
   "source": [
    "pumps_df.crs.to_epsg()"
   ]
  },
  {
   "cell_type": "code",
   "execution_count": 7,
   "id": "cb9684b7",
   "metadata": {},
   "outputs": [
    {
     "data": {
      "text/plain": [
       "True"
      ]
     },
     "execution_count": 7,
     "metadata": {},
     "output_type": "execute_result"
    }
   ],
   "source": [
    "pumps_df.crs.to_epsg() == deaths_df.crs.to_epsg()"
   ]
  },
  {
   "cell_type": "markdown",
   "id": "84fafe13",
   "metadata": {},
   "source": [
    "## Representar los datos"
   ]
  },
  {
   "cell_type": "markdown",
   "id": "e8453161",
   "metadata": {},
   "source": [
    "Creamos gráfico de muertes:"
   ]
  },
  {
   "cell_type": "code",
   "execution_count": 10,
   "id": "18b9f5bd",
   "metadata": {},
   "outputs": [
    {
     "data": {
      "image/png": "[encoded data removed]",
      "text/plain": [
       "<Figure size 640x480 with 2 Axes>"
      ]
     },
     "metadata": {},
     "output_type": "display_data"
    }
   ],
   "source": [
    "ax = deaths_df.plot(column='Count', alpha=0.5, edgecolor='k', legend=True)"
   ]
  },
  {
   "cell_type": "markdown",
   "id": "73945a3f",
   "metadata": {},
   "source": [
    "Vamos a hacerlo de mayor tamaño y añadir las bombas:"
   ]
  },
  {
   "cell_type": "code",
   "execution_count": 8,
   "id": "45717e65",
   "metadata": {
    "tags": []
   },
   "outputs": [
    {
     "data": {
      "text/plain": [
       "<Axes: >"
      ]
     },
     "execution_count": 8,
     "metadata": {},
     "output_type": "execute_result"
    },
    {
     "data": {
      "image/png": "[encoded data removed]",
      "text/plain": [
       "<Figure size 1500x1500 with 2 Axes>"
      ]
     },
     "metadata": {},
     "output_type": "display_data"
    }
   ],
   "source": [
    "ax = deaths_df.plot(column='Count', figsize=(15, 15), alpha=0.5, edgecolor='k', legend=True)\n",
    "pumps_df.plot(ax=ax, marker='x', color='red', markersize=50)"
   ]
  },
  {
   "cell_type": "code",
   "execution_count": 9,
   "id": "d7f71bc3",
   "metadata": {},
   "outputs": [
    {
     "ename": "CRSError",
     "evalue": "The EPSG code is unknown. PROJ: proj_create_from_database: C:\\Program Files\\PostgreSQL\\13\\share\\contrib\\postgis-3.5\\proj\\proj.db contains DATABASE.LAYOUT.VERSION.MINOR = 2 whereas a number >= 4 is expected. It comes from another PROJ installation.",
     "output_type": "error",
     "traceback": [
      "\u001b[1;31m---------------------------------------------------------------------------\u001b[0m",
      "\u001b[1;31mCPLE_AppDefinedError\u001b[0m                      Traceback (most recent call last)",
      "File \u001b[1;32mrasterio\\\\crs.pyx:592\u001b[0m, in \u001b[0;36mrasterio.crs.CRS.from_epsg\u001b[1;34m()\u001b[0m\n",
      "File \u001b[1;32mrasterio\\\\_err.pyx:289\u001b[0m, in \u001b[0;36mrasterio._err.exc_wrap_int\u001b[1;34m()\u001b[0m\n",
      "\u001b[1;31mCPLE_AppDefinedError\u001b[0m: PROJ: proj_create_from_database: C:\\Program Files\\PostgreSQL\\13\\share\\contrib\\postgis-3.5\\proj\\proj.db contains DATABASE.LAYOUT.VERSION.MINOR = 2 whereas a number >= 4 is expected. It comes from another PROJ installation.",
      "\nDuring handling of the above exception, another exception occurred:\n",
      "\u001b[1;31mCRSError\u001b[0m                                  Traceback (most recent call last)",
      "Cell \u001b[1;32mIn[9], line 4\u001b[0m\n\u001b[0;32m      1\u001b[0m ax \u001b[38;5;241m=\u001b[39m deaths_df\u001b[38;5;241m.\u001b[39mplot(column\u001b[38;5;241m=\u001b[39m\u001b[38;5;124m'\u001b[39m\u001b[38;5;124mCount\u001b[39m\u001b[38;5;124m'\u001b[39m, figsize\u001b[38;5;241m=\u001b[39m(\u001b[38;5;241m15\u001b[39m, \u001b[38;5;241m15\u001b[39m), alpha\u001b[38;5;241m=\u001b[39m\u001b[38;5;241m0.5\u001b[39m, edgecolor\u001b[38;5;241m=\u001b[39m\u001b[38;5;124m'\u001b[39m\u001b[38;5;124mk\u001b[39m\u001b[38;5;124m'\u001b[39m, legend\u001b[38;5;241m=\u001b[39m\u001b[38;5;28;01mTrue\u001b[39;00m)\n\u001b[0;32m      2\u001b[0m pumps_df\u001b[38;5;241m.\u001b[39mplot(ax\u001b[38;5;241m=\u001b[39max, marker\u001b[38;5;241m=\u001b[39m\u001b[38;5;124m'\u001b[39m\u001b[38;5;124mx\u001b[39m\u001b[38;5;124m'\u001b[39m, color\u001b[38;5;241m=\u001b[39m\u001b[38;5;124m'\u001b[39m\u001b[38;5;124mred\u001b[39m\u001b[38;5;124m'\u001b[39m, markersize\u001b[38;5;241m=\u001b[39m\u001b[38;5;241m50\u001b[39m);\n\u001b[1;32m----> 4\u001b[0m \u001b[43mctx\u001b[49m\u001b[38;5;241;43m.\u001b[39;49m\u001b[43madd_basemap\u001b[49m\u001b[43m(\u001b[49m\u001b[43max\u001b[49m\u001b[43m,\u001b[49m\n\u001b[0;32m      5\u001b[0m \u001b[43m    \u001b[49m\u001b[43mcrs\u001b[49m\u001b[38;5;241;43m=\u001b[39;49m\u001b[43mdeaths_df\u001b[49m\u001b[38;5;241;43m.\u001b[39;49m\u001b[43mcrs\u001b[49m\u001b[38;5;241;43m.\u001b[39;49m\u001b[43mto_string\u001b[49m\u001b[43m(\u001b[49m\u001b[43m)\u001b[49m\u001b[43m,\u001b[49m\n\u001b[0;32m      6\u001b[0m \u001b[43m                \u001b[49m\n\u001b[0;32m      7\u001b[0m \u001b[43m    \u001b[49m\u001b[38;5;66;43;03m# Snow's original map (hand-drawn)\u001b[39;49;00m\n\u001b[0;32m      8\u001b[0m \u001b[43m    \u001b[49m\u001b[43msource\u001b[49m\u001b[38;5;241;43m=\u001b[39;49m\u001b[38;5;124;43m\"\u001b[39;49m\u001b[38;5;124;43mdata/SnowGIS/SnowMap.tif\u001b[39;49m\u001b[38;5;124;43m\"\u001b[39;49m\n\u001b[0;32m      9\u001b[0m \u001b[43m)\u001b[49m\n",
      "File \u001b[1;32m~\\anaconda3\\envs\\advprog\\lib\\site-packages\\contextily\\plotting.py:162\u001b[0m, in \u001b[0;36madd_basemap\u001b[1;34m(ax, zoom, source, interpolation, attribution, attribution_size, reset_extent, crs, resampling, zoom_adjust, **extra_imshow_args)\u001b[0m\n\u001b[0;32m    160\u001b[0m \u001b[38;5;66;03m# Read window\u001b[39;00m\n\u001b[0;32m    161\u001b[0m \u001b[38;5;28;01mif\u001b[39;00m crs:\n\u001b[1;32m--> 162\u001b[0m     left, bottom, right, top \u001b[38;5;241m=\u001b[39m \u001b[43mrio\u001b[49m\u001b[38;5;241;43m.\u001b[39;49m\u001b[43mwarp\u001b[49m\u001b[38;5;241;43m.\u001b[39;49m\u001b[43mtransform_bounds\u001b[49m\u001b[43m(\u001b[49m\n\u001b[0;32m    163\u001b[0m \u001b[43m        \u001b[49m\u001b[43mcrs\u001b[49m\u001b[43m,\u001b[49m\u001b[43m \u001b[49m\u001b[43mraster\u001b[49m\u001b[38;5;241;43m.\u001b[39;49m\u001b[43mcrs\u001b[49m\u001b[43m,\u001b[49m\u001b[43m \u001b[49m\u001b[43mxmin\u001b[49m\u001b[43m,\u001b[49m\u001b[43m \u001b[49m\u001b[43mymin\u001b[49m\u001b[43m,\u001b[49m\u001b[43m \u001b[49m\u001b[43mxmax\u001b[49m\u001b[43m,\u001b[49m\u001b[43m \u001b[49m\u001b[43mymax\u001b[49m\n\u001b[0;32m    164\u001b[0m \u001b[43m    \u001b[49m\u001b[43m)\u001b[49m\n\u001b[0;32m    165\u001b[0m \u001b[38;5;28;01melse\u001b[39;00m:\n\u001b[0;32m    166\u001b[0m     left, bottom, right, top \u001b[38;5;241m=\u001b[39m xmin, ymin, xmax, ymax\n",
      "File \u001b[1;32m~\\AppData\\Roaming\\Python\\Python39\\site-packages\\rasterio\\warp.py:147\u001b[0m, in \u001b[0;36mtransform_bounds\u001b[1;34m(src_crs, dst_crs, left, bottom, right, top, densify_pts)\u001b[0m\n\u001b[0;32m    113\u001b[0m \u001b[38;5;28;01mdef\u001b[39;00m\u001b[38;5;250m \u001b[39m\u001b[38;5;21mtransform_bounds\u001b[39m(\n\u001b[0;32m    114\u001b[0m         src_crs,\n\u001b[0;32m    115\u001b[0m         dst_crs,\n\u001b[1;32m   (...)\u001b[0m\n\u001b[0;32m    119\u001b[0m         top,\n\u001b[0;32m    120\u001b[0m         densify_pts\u001b[38;5;241m=\u001b[39m\u001b[38;5;241m21\u001b[39m):\n\u001b[0;32m    121\u001b[0m \u001b[38;5;250m    \u001b[39m\u001b[38;5;124;03m\"\"\"Transform bounds from src_crs to dst_crs.\u001b[39;00m\n\u001b[0;32m    122\u001b[0m \n\u001b[0;32m    123\u001b[0m \u001b[38;5;124;03m    Optionally densifying the edges (to account for nonlinear transformations\u001b[39;00m\n\u001b[1;32m   (...)\u001b[0m\n\u001b[0;32m    145\u001b[0m \u001b[38;5;124;03m        Outermost coordinates in target coordinate reference system.\u001b[39;00m\n\u001b[0;32m    146\u001b[0m \u001b[38;5;124;03m    \"\"\"\u001b[39;00m\n\u001b[1;32m--> 147\u001b[0m     src_crs \u001b[38;5;241m=\u001b[39m \u001b[43mCRS\u001b[49m\u001b[38;5;241;43m.\u001b[39;49m\u001b[43mfrom_user_input\u001b[49m\u001b[43m(\u001b[49m\u001b[43msrc_crs\u001b[49m\u001b[43m)\u001b[49m\n\u001b[0;32m    148\u001b[0m     dst_crs \u001b[38;5;241m=\u001b[39m CRS\u001b[38;5;241m.\u001b[39mfrom_user_input(dst_crs)\n\u001b[0;32m    149\u001b[0m     \u001b[38;5;28;01mreturn\u001b[39;00m _transform_bounds(\n\u001b[0;32m    150\u001b[0m         src_crs,\n\u001b[0;32m    151\u001b[0m         dst_crs,\n\u001b[1;32m   (...)\u001b[0m\n\u001b[0;32m    156\u001b[0m         densify_pts,\n\u001b[0;32m    157\u001b[0m     )\n",
      "File \u001b[1;32mrasterio\\\\crs.pyx:790\u001b[0m, in \u001b[0;36mrasterio.crs.CRS.from_user_input\u001b[1;34m()\u001b[0m\n",
      "File \u001b[1;32mrasterio\\\\crs.pyx:852\u001b[0m, in \u001b[0;36mrasterio.crs.CRS.from_string\u001b[1;34m()\u001b[0m\n",
      "File \u001b[1;32mrasterio\\\\crs.pyx:596\u001b[0m, in \u001b[0;36mrasterio.crs.CRS.from_epsg\u001b[1;34m()\u001b[0m\n",
      "\u001b[1;31mCRSError\u001b[0m: The EPSG code is unknown. PROJ: proj_create_from_database: C:\\Program Files\\PostgreSQL\\13\\share\\contrib\\postgis-3.5\\proj\\proj.db contains DATABASE.LAYOUT.VERSION.MINOR = 2 whereas a number >= 4 is expected. It comes from another PROJ installation."
     ]
    },
    {
     "data": {
      "image/png": "[encoded data removed]",
      "text/plain": [
       "<Figure size 1500x1500 with 2 Axes>"
      ]
     },
     "metadata": {},
     "output_type": "display_data"
    }
   ],
   "source": [
    "ax = deaths_df.plot(column='Count', figsize=(15, 15), alpha=0.5, edgecolor='k', legend=True)\n",
    "pumps_df.plot(ax=ax, marker='x', color='red', markersize=50);\n",
    "\n",
    "ctx.add_basemap(ax,\n",
    "    crs=deaths_df.crs.to_string(),\n",
    "                \n",
    "    # Snow's original map (hand-drawn)\n",
    "    source=\"data/SnowGIS/SnowMap.tif\"\n",
    ")"
   ]
  },
  {
   "cell_type": "markdown",
   "id": "e1a5d0b2",
   "metadata": {},
   "source": [
    "En el resto del curso \"cogeremos gustillo\" a visualizar datos geoespaciales, pero también a analizarlos estadísticamente. Herramienta fundamental para ello es *Shapely*, para manejar y manipular formas geométricas."
   ]
  },
  {
   "cell_type": "markdown",
   "id": "e6197add",
   "metadata": {},
   "source": [
    "# Shapely y objetos geométricos\n",
    "\n",
    "Vamos a aprender cómo crear y manipular geometrías en Python usando el [paquete Shapely en Python](https://shapely.readthedocs.io/en/stable/manual.html).\n",
    "\n",
    "**Sources:**\n",
    "\n",
    "Los siguientes materiales se basan en [Shapely-documentation](https://shapely.readthedocs.io/en/stable/manual.html) y [Westra\n",
    "E. (2013), Capítulo 3](https://www.packtpub.com/application-development/python-geospatial-development-first-edition).\n",
    "\n",
    "\n",
    "## Principales objetos geométricos\n",
    "\n",
    "![Spatial geometric objects](figs/geo-points-verts-polys.width-1200.jpg)\n",
    "\n",
    "## Modelo de datos espaciales de Shapely\n",
    "\n",
    "![Spatial data model](figs/spatialDataModel.png)\n",
    "\n",
    "*Objetos geométricos fundamentales que se pueden usar en Python con* [Shapely](https://shapely.readthedocs.io/en/stable/manual.html).\n",
    "\n",
    "Los objetos geométricos esenciales son `Points`, `Lines` y `Polygons`; elementos básicos cuando se trabaja con datos espaciales en formato vectorial.\n",
    "Python tiene un módulo específico llamado [Shapely](https://shapely.readthedocs.io/en/stable/manual.html) que permite llevar a cabo diversas operaciones geométricas. El conocimiento básico del uso de Shapely es fundamental para entender cómo se almacenan y manejan las geometrías en GeoPandas, paquete en el que se profundizará en próximas sesiones.\n",
    "\n",
    "**Los objetos geométricos constan de tuplas de coordenadas:**\n",
    "\n",
    "- Objeto `Point`: representa un único punto en el espacio. Los puntos pueden ser bidimensionales (x, y) o tridimensionales (x, y, z).\n",
    "- Objeto `LineString`: (es decir, una línea) representa una secuencia de puntos unidos para constituir una línea. Por lo tanto, una línea consta de una lista de, al menos, dos tuplas de coordenadas.\n",
    "- Objeto `Polygon`: representa un área rellena que consta de una lista de, al menos,  tres tuplas de coordenadas que forman el anillo exterior y una (posible) lista de polígonos de agujeros.\n",
    "\n",
    "\n",
    "Además, **es posible tener una colección de objetos geométricos (por ejemplo, polígonos con varias partes):**\n",
    "\n",
    "- Objeto `MultiPoint`: representa una colección de puntos y consta de una lista de tuplas de coordenadas.\n",
    "- Objeto `MultiLineString`: representa una colección de líneas y consta de una lista de secuencias similares a líneas.\n",
    "- Objeto `MultiPolygon`: representa una colección de polígonos que consta de una lista de secuencias similares a polígonos que se construyen a partir de tuplas de listas de anillos exteriores y (posibles) agujeros.\n",
    "\n",
    "**Algunos atributos y métodos útiles en Shapely:**\n",
    "\n",
    "- Creación de líneas y polígonos basados en una colección de objetos de tipo punto.\n",
    "- Cálculo de áreas/longitud/límites, etc., de geometrías de entrada.\n",
    "- Realizar operaciones geométricas basadas en geometrías de entrada. Por ejemplo: `union`, `difference`, `distance`, etc.\n",
    "- Realizar consultas espaciales entre geometrías como `intersects`, `touches`, `crosses`, `within`, etc. (¡lo vimos en el tema de ogr, si recuerdas!).\n"
   ]
  },
  {
   "cell_type": "markdown",
   "id": "ba311dcd",
   "metadata": {},
   "source": [
    "### Point\n",
    "\n",
    "Crear un punto es sencillo: se deben pasar las coordenadas x e y al objeto `Point()` (y opcional, la coordenada z):"
   ]
  },
  {
   "cell_type": "code",
   "execution_count": 10,
   "id": "b07aa519",
   "metadata": {
    "collapsed": false,
    "jupyter": {
     "outputs_hidden": false
    }
   },
   "outputs": [],
   "source": [
    "# Import necessary geometric objects from shapely module\n",
    "from shapely.geometry import Point, LineString, Polygon\n",
    "\n",
    "# Create Point geometric object(s) with coordinates\n",
    "point1 = Point(2.2, 4.2)\n",
    "point2 = Point(7.2, -25.1)\n",
    "point3 = Point(9.26, -2.456)\n",
    "point3D = Point(9.26, -2.456, 0.57)"
   ]
  },
  {
   "cell_type": "markdown",
   "id": "e8b1faad",
   "metadata": {},
   "source": [
    "¿Qué contienen las variables?:"
   ]
  },
  {
   "cell_type": "code",
   "execution_count": 11,
   "id": "bc00775d",
   "metadata": {},
   "outputs": [
    {
     "data": {
      "image/svg+xml": [
       "<svg xmlns=\"http://www.w3.org/2000/svg\" xmlns:xlink=\"http://www.w3.org/1999/xlink\" width=\"100.0\" height=\"100.0\" viewBox=\"1.2000000000000002 3.2 2.0 2.0\" preserveAspectRatio=\"xMinYMin meet\"><g transform=\"matrix(1,0,0,-1,0,8.4)\"><circle cx=\"2.2\" cy=\"4.2\" r=\"0.06\" stroke=\"#555555\" stroke-width=\"0.02\" fill=\"#66cc99\" opacity=\"0.6\" /></g></svg>"
      ],
      "text/plain": [
       "<POINT (2.2 4.2)>"
      ]
     },
     "execution_count": 11,
     "metadata": {},
     "output_type": "execute_result"
    }
   ],
   "source": [
    "point1"
   ]
  },
  {
   "cell_type": "markdown",
   "id": "5ce7f86d",
   "metadata": {},
   "source": [
    "Como vemos aquí, Jupyter notebook nos permite mostrar la forma directamente en la pantalla, pero no se preocupe porque se puede obtener también la información sobre la definición real de dichos objetos (usando `print`):\n"
   ]
  },
  {
   "cell_type": "code",
   "execution_count": 12,
   "id": "32b461d8",
   "metadata": {
    "collapsed": false,
    "jupyter": {
     "outputs_hidden": false
    }
   },
   "outputs": [
    {
     "name": "stdout",
     "output_type": "stream",
     "text": [
      "POINT (2.2 4.2)\n",
      "POINT Z (9.26 -2.456 0.57)\n"
     ]
    }
   ],
   "source": [
    "print(point1)\n",
    "print(point3D)"
   ]
  },
  {
   "cell_type": "markdown",
   "id": "7db46e22",
   "metadata": {},
   "source": [
    "Como puede ver, el punto 3D se identifica por la letra Z mayúscula delante de las coordenadas.\n",
    "\n",
    "\n",
    "Y también, claro, podemos chequear el tipo de datos de un punto:"
   ]
  },
  {
   "cell_type": "code",
   "execution_count": 13,
   "id": "893cc1e5",
   "metadata": {},
   "outputs": [
    {
     "data": {
      "text/plain": [
       "shapely.geometry.point.Point"
      ]
     },
     "execution_count": 13,
     "metadata": {},
     "output_type": "execute_result"
    }
   ],
   "source": [
    "type(point1)"
   ]
  },
  {
   "cell_type": "markdown",
   "id": "877c6588",
   "metadata": {},
   "source": [
    "Podemos ver que el tipo del punto es `Point` de Shapely. El objeto punto se representa en un formato específico basado en\n",
    "[GEOS](https://trac.osgeo.org/geos), biblioteca C++ y una de las bibliotecas estándar detrás de varios Sistemas de Información Geográfica. Se ejecuta por debajo del *hood*, por ejemplo, en [QGIS](http://www.qgis.org/en/site/)."
   ]
  },
  {
   "cell_type": "markdown",
   "id": "1d9b6b89",
   "metadata": {},
   "source": [
    "#### Atributos y funciones de puntos\n",
    "\n",
    "Los `Points` y otros objetos shapely, como siempre, tienen [atributos y métodos útiles incorporados](https://shapely.readthedocs.io/en/stable/manual.html#general-attributes-and-methods). Utilizando los atributos disponibles, podemos, por ejemplo, extraer los valores de las coordenadas de un punto y calcular la distancia euclidiana entre puntos, muy utilizada."
   ]
  },
  {
   "cell_type": "code",
   "execution_count": 14,
   "id": "b49c38de",
   "metadata": {
    "tags": []
   },
   "outputs": [
    {
     "data": {
      "text/plain": [
       "['__and__',\n",
       " '__bool__',\n",
       " '__class__',\n",
       " '__delattr__',\n",
       " '__dir__',\n",
       " '__doc__',\n",
       " '__eq__',\n",
       " '__format__',\n",
       " '__ge__',\n",
       " '__geo_interface__',\n",
       " '__getattribute__',\n",
       " '__gt__',\n",
       " '__hash__',\n",
       " '__init__',\n",
       " '__init_subclass__',\n",
       " '__le__',\n",
       " '__lt__',\n",
       " '__module__',\n",
       " '__ne__',\n",
       " '__new__',\n",
       " '__nonzero__',\n",
       " '__or__',\n",
       " '__reduce__',\n",
       " '__reduce_ex__',\n",
       " '__repr__',\n",
       " '__setattr__',\n",
       " '__setstate__',\n",
       " '__sizeof__',\n",
       " '__slots__',\n",
       " '__str__',\n",
       " '__sub__',\n",
       " '__subclasshook__',\n",
       " '__xor__',\n",
       " '_geom',\n",
       " '_geom_prepared',\n",
       " '_ndim',\n",
       " '_repr_svg_',\n",
       " 'almost_equals',\n",
       " 'area',\n",
       " 'boundary',\n",
       " 'bounds',\n",
       " 'buffer',\n",
       " 'centroid',\n",
       " 'contains',\n",
       " 'contains_properly',\n",
       " 'convex_hull',\n",
       " 'coords',\n",
       " 'covered_by',\n",
       " 'covers',\n",
       " 'crosses',\n",
       " 'difference',\n",
       " 'disjoint',\n",
       " 'distance',\n",
       " 'dwithin',\n",
       " 'envelope',\n",
       " 'equals',\n",
       " 'equals_exact',\n",
       " 'geom_type',\n",
       " 'geometryType',\n",
       " 'has_z',\n",
       " 'hausdorff_distance',\n",
       " 'interpolate',\n",
       " 'intersection',\n",
       " 'intersects',\n",
       " 'is_closed',\n",
       " 'is_empty',\n",
       " 'is_ring',\n",
       " 'is_simple',\n",
       " 'is_valid',\n",
       " 'length',\n",
       " 'line_interpolate_point',\n",
       " 'line_locate_point',\n",
       " 'minimum_clearance',\n",
       " 'minimum_rotated_rectangle',\n",
       " 'normalize',\n",
       " 'oriented_envelope',\n",
       " 'overlaps',\n",
       " 'point_on_surface',\n",
       " 'project',\n",
       " 'relate',\n",
       " 'relate_pattern',\n",
       " 'representative_point',\n",
       " 'reverse',\n",
       " 'segmentize',\n",
       " 'simplify',\n",
       " 'svg',\n",
       " 'symmetric_difference',\n",
       " 'touches',\n",
       " 'type',\n",
       " 'union',\n",
       " 'within',\n",
       " 'wkb',\n",
       " 'wkb_hex',\n",
       " 'wkt',\n",
       " 'x',\n",
       " 'xy',\n",
       " 'y',\n",
       " 'z']"
      ]
     },
     "execution_count": 14,
     "metadata": {},
     "output_type": "execute_result"
    }
   ],
   "source": [
    "dir(point1)"
   ]
  },
  {
   "cell_type": "markdown",
   "id": "fe4d92a5",
   "metadata": {},
   "source": [
    "El atributo `geom_type` contiene información sobre el tipo de geometría del objeto Shapely:"
   ]
  },
  {
   "cell_type": "code",
   "execution_count": 15,
   "id": "35e02d3a",
   "metadata": {},
   "outputs": [
    {
     "data": {
      "text/plain": [
       "'Point'"
      ]
     },
     "execution_count": 15,
     "metadata": {},
     "output_type": "execute_result"
    }
   ],
   "source": [
    "point1.geom_type"
   ]
  },
  {
   "cell_type": "markdown",
   "id": "5f304e22",
   "metadata": {},
   "source": [
    "La extracción de las coordenadas de un punto se puede realizar de las siguientes formas:"
   ]
  },
  {
   "cell_type": "markdown",
   "id": "5c7603e4",
   "metadata": {},
   "source": [
    "1. El atributo `coords` contiene la información de coordenadas como `CoordinateSequence`; otro tipo de datos relacionado con Shapely."
   ]
  },
  {
   "cell_type": "code",
   "execution_count": 16,
   "id": "59c6e92c",
   "metadata": {},
   "outputs": [
    {
     "data": {
      "text/plain": [
       "[(2.2, 4.2)]"
      ]
     },
     "execution_count": 16,
     "metadata": {},
     "output_type": "execute_result"
    }
   ],
   "source": [
    "# Get x, y coordinate tuple\n",
    "list(point1.coords)"
   ]
  },
  {
   "cell_type": "markdown",
   "id": "675ad287",
   "metadata": {},
   "source": [
    "En el ejemplo anterior, tenemos una tupla de coordenadas dentro de una lista. "
   ]
  },
  {
   "cell_type": "markdown",
   "id": "9f43e751",
   "metadata": {},
   "source": [
    "2. Usando los atributos `x` e `y`, se pueden obtener las coordenadas directamente como números decimales simples:"
   ]
  },
  {
   "cell_type": "code",
   "execution_count": 17,
   "id": "a623f82c",
   "metadata": {
    "collapsed": false,
    "jupyter": {
     "outputs_hidden": false
    }
   },
   "outputs": [],
   "source": [
    "# Read x and y coordinates independently\n",
    "x = point1.x\n",
    "y = point1.y"
   ]
  },
  {
   "cell_type": "code",
   "execution_count": 18,
   "id": "89c05d74",
   "metadata": {},
   "outputs": [
    {
     "name": "stdout",
     "output_type": "stream",
     "text": [
      "2.2 4.2\n"
     ]
    }
   ],
   "source": [
    "print(x, y)"
   ]
  },
  {
   "cell_type": "markdown",
   "id": "3207e2f7",
   "metadata": {},
   "source": [
    "También es posible calcular la distancia entre dos objetos usando el método [distance](https://shapely.readthedocs.io/en/stable/manual.html#object.distance). En nuestro ejemplo, la distancia se calcula en un sistema de coordenadas cartesianas. Cuando se trabaja con datos GIS reales, la distancia se basa en el sistema de referencia de coordenadas que se esté manejando (verifique cuál es la unidad de medida, por ejemplo, metros, en el sistema de referencia de coordenadas utilizado).\n",
    "\n",
    "Vamos a calcular la distancia entre `point1` y `point2`:"
   ]
  },
  {
   "cell_type": "code",
   "execution_count": 19,
   "id": "5d9ddcc9",
   "metadata": {},
   "outputs": [
    {
     "name": "stdout",
     "output_type": "stream",
     "text": [
      "POINT (2.2 4.2)\n",
      "POINT (7.2 -25.1)\n"
     ]
    }
   ],
   "source": [
    "# Check input data\n",
    "print(point1)\n",
    "print(point2)"
   ]
  },
  {
   "cell_type": "code",
   "execution_count": 20,
   "id": "2fce202e",
   "metadata": {},
   "outputs": [
    {
     "name": "stdout",
     "output_type": "stream",
     "text": [
      "Distance between the points is 29.723559679150142 units\n"
     ]
    }
   ],
   "source": [
    "# Calculate the distance between point1 and point2\n",
    "dist = point1.distance(point2)\n",
    "\n",
    "# Print out a nicely formatted message\n",
    "print(f\"Distance between the points is {dist} units\")"
   ]
  },
  {
   "cell_type": "markdown",
   "id": "ae8690f4",
   "metadata": {},
   "source": [
    "### LineString\n",
    "\n",
    "Crear objetos `LineString` es bastante similar a crear Shapely `Point`.\n",
    "\n",
    "En lugar de usar una única tupla de coordenadas, para construir la línea usamos una lista de objetos Point de shapely o bien, pasar los puntos como tuplas de coordenadas:"
   ]
  },
  {
   "cell_type": "code",
   "execution_count": 21,
   "id": "7cccb852",
   "metadata": {
    "collapsed": false,
    "jupyter": {
     "outputs_hidden": false
    }
   },
   "outputs": [],
   "source": [
    "# Create a LineString from the Point objects\n",
    "line1 = LineString([point1, point2, point3])"
   ]
  },
  {
   "cell_type": "code",
   "execution_count": 22,
   "id": "9e3dff17",
   "metadata": {},
   "outputs": [],
   "source": [
    "# It is also possible using coordinate tuples\n",
    "line2 = LineString([(2.2, 4.2), (7.2, -25.1), (9.26, -2.456)])"
   ]
  },
  {
   "cell_type": "code",
   "execution_count": 23,
   "id": "ff87feaf",
   "metadata": {},
   "outputs": [
    {
     "data": {
      "text/plain": [
       "True"
      ]
     },
     "execution_count": 23,
     "metadata": {},
     "output_type": "execute_result"
    }
   ],
   "source": [
    "# Check if line1 and line2 are identical\n",
    "line1 == line2 "
   ]
  },
  {
   "cell_type": "markdown",
   "id": "2b78cfc6",
   "metadata": {},
   "source": [
    "Y así se representa nuestra línea:"
   ]
  },
  {
   "cell_type": "code",
   "execution_count": 24,
   "id": "6e8eb975",
   "metadata": {},
   "outputs": [
    {
     "data": {
      "image/svg+xml": [
       "<svg xmlns=\"http://www.w3.org/2000/svg\" xmlns:xlink=\"http://www.w3.org/1999/xlink\" width=\"100.0\" height=\"100.0\" viewBox=\"1.028 -26.272000000000002 9.404 31.644000000000002\" preserveAspectRatio=\"xMinYMin meet\"><g transform=\"matrix(1,0,0,-1,0,-20.900000000000002)\"><polyline fill=\"none\" stroke=\"#66cc99\" stroke-width=\"0.63288\" points=\"2.2,4.2 7.2,-25.1 9.26,-2.456\" opacity=\"0.8\" /></g></svg>"
      ],
      "text/plain": [
       "<LINESTRING (2.2 4.2, 7.2 -25.1, 9.26 -2.456)>"
      ]
     },
     "execution_count": 24,
     "metadata": {},
     "output_type": "execute_result"
    }
   ],
   "source": [
    "line1"
   ]
  },
  {
   "cell_type": "code",
   "execution_count": 25,
   "id": "16770709",
   "metadata": {},
   "outputs": [
    {
     "name": "stdout",
     "output_type": "stream",
     "text": [
      "LINESTRING (2.2 4.2, 7.2 -25.1, 9.26 -2.456)\n"
     ]
    }
   ],
   "source": [
    "print(line1)"
   ]
  },
  {
   "cell_type": "markdown",
   "id": "39d76218",
   "metadata": {},
   "source": [
    "Como podemos observar, la variable `line1` se compone de múltiples pares de coordenadas."
   ]
  },
  {
   "cell_type": "markdown",
   "id": "768d9274",
   "metadata": {},
   "source": [
    "Podemos también chequear el tipo de datos:"
   ]
  },
  {
   "cell_type": "code",
   "execution_count": 26,
   "id": "f088fd19",
   "metadata": {},
   "outputs": [
    {
     "data": {
      "text/plain": [
       "shapely.geometry.linestring.LineString"
      ]
     },
     "execution_count": 26,
     "metadata": {},
     "output_type": "execute_result"
    }
   ],
   "source": [
    "# Check data type of the line object\n",
    "type(line1)"
   ]
  },
  {
   "cell_type": "code",
   "execution_count": 27,
   "id": "550196da",
   "metadata": {},
   "outputs": [
    {
     "data": {
      "text/plain": [
       "'LineString'"
      ]
     },
     "execution_count": 27,
     "metadata": {},
     "output_type": "execute_result"
    }
   ],
   "source": [
    "# Check geometry type of the line object\n",
    "line1.geom_type"
   ]
  },
  {
   "cell_type": "markdown",
   "id": "04eaa919",
   "metadata": {},
   "source": [
    "#### Atributos y funciones de LineString\n",
    "\n",
    "\n",
    "El objeto `LineString` tiene muchos atributos y funcionalidades incorporadas útiles. Por ejemplo, es posible extraer las coordenadas o la longitud de una `LineString` (línea), calcular el centroide de la línea, crear puntos a lo largo de la línea a una distancia específica, calcular la distancia más cercana desde una línea a un punto específico y simplificar la geometría. Puede ver la lista completa de funcionalidades en la [documentación de Shapely](http://toblerity.org/shapely/manual.html). Ahora revisaremos sólo algunos de ellos:"
   ]
  },
  {
   "cell_type": "code",
   "execution_count": 28,
   "id": "f02b7fa4",
   "metadata": {
    "collapsed": false,
    "jupyter": {
     "outputs_hidden": false
    }
   },
   "outputs": [
    {
     "data": {
      "text/plain": [
       "[(2.2, 4.2), (7.2, -25.1), (9.26, -2.456)]"
      ]
     },
     "execution_count": 28,
     "metadata": {},
     "output_type": "execute_result"
    }
   ],
   "source": [
    "# Get x, y coordinate tuples\n",
    "list(line1.coords)"
   ]
  },
  {
   "cell_type": "markdown",
   "id": "79d21701",
   "metadata": {},
   "source": [
    "Como puede observar, se trata de una lista de tuplas de coordenadas (x,y) dentro de una lista.\n",
    "\n",
    "Si se necesita acceder a todas las coordenadas x, por ejemplo, o a todas las coordenadas y de la línea, se puede hacer directamente usando el atributo `xy`:"
   ]
  },
  {
   "cell_type": "code",
   "execution_count": 29,
   "id": "5a34e40d",
   "metadata": {
    "collapsed": false,
    "jupyter": {
     "outputs_hidden": false
    }
   },
   "outputs": [],
   "source": [
    "# Extract x and y coordinates separately\n",
    "xcoords = list(line1.xy[0])\n",
    "ycoords = list(line1.xy[1])"
   ]
  },
  {
   "cell_type": "code",
   "execution_count": 30,
   "id": "19964860",
   "metadata": {},
   "outputs": [
    {
     "name": "stdout",
     "output_type": "stream",
     "text": [
      "[2.2, 7.2, 9.26]\n",
      "[4.2, -25.1, -2.456]\n"
     ]
    }
   ],
   "source": [
    "print(xcoords)\n",
    "print(ycoords)"
   ]
  },
  {
   "cell_type": "markdown",
   "id": "a480e7c9",
   "metadata": {},
   "source": [
    "También se pueden obtener atributos específicos tales como la longitud de la línea y el centro de la línea (centroide) directamente desde el propio objeto `LineString`:"
   ]
  },
  {
   "cell_type": "code",
   "execution_count": 31,
   "id": "89dc2920",
   "metadata": {
    "collapsed": false,
    "jupyter": {
     "outputs_hidden": false
    }
   },
   "outputs": [
    {
     "name": "stdout",
     "output_type": "stream",
     "text": [
      "Length of our line: 52.46106912939557 units\n"
     ]
    }
   ],
   "source": [
    "# Get the lenght of the line\n",
    "line_length = line1.length\n",
    "print(f\"Length of our line: {line_length} units\")"
   ]
  },
  {
   "cell_type": "code",
   "execution_count": 32,
   "id": "692eb89b",
   "metadata": {},
   "outputs": [
    {
     "name": "stdout",
     "output_type": "stream",
     "text": [
      "POINT (6.229961354035622 -11.892411157572392)\n"
     ]
    }
   ],
   "source": [
    "# Get the centroid of the line\n",
    "print(line1.centroid)"
   ]
  },
  {
   "cell_type": "markdown",
   "id": "4fb40ead",
   "metadata": {},
   "source": [
    "Vea que el centroide de la línea es nuevamente un objeto Shapely `Point`."
   ]
  },
  {
   "cell_type": "markdown",
   "id": "5f6c5ab8",
   "metadata": {},
   "source": [
    "### Polygon\n",
    "\n",
    "\n",
    "Con la misma lógica para la creación de `Point` y `LineString`, se puede crear un objeto `Polygon`, pero el objeto Polygon solo acepta una secuencia de coordenadas como entrada.\n",
    "\n",
    "El polígono necesita **al menos tres tuplas de coordenadas** (como mínimo, tres puntos para formar una superficie):"
   ]
  },
  {
   "cell_type": "code",
   "execution_count": 33,
   "id": "0e9d2772",
   "metadata": {
    "collapsed": false,
    "jupyter": {
     "outputs_hidden": false
    }
   },
   "outputs": [],
   "source": [
    "# Create a Polygon from the coordinates\n",
    "poly = Polygon([(2.2, 4.2), (7.2, -25.1), (9.26, -2.456)])"
   ]
  },
  {
   "cell_type": "markdown",
   "id": "e3a3d75b",
   "metadata": {},
   "source": [
    "Si necesitamos obtener información de los pares de coordenadas (x,y) de los objetos point creados como una secuencia, se puede hacer con una lista de comprensión:"
   ]
  },
  {
   "cell_type": "code",
   "execution_count": 34,
   "id": "8e5b9571",
   "metadata": {},
   "outputs": [],
   "source": [
    "# Create a Polygon from the Shapely points information\n",
    "poly2 = Polygon([[p.x, p.y] for p in [point1, point2, point3]])"
   ]
  },
  {
   "cell_type": "markdown",
   "id": "6922421c",
   "metadata": {},
   "source": [
    "Para comprender lo que se ha realizado, puede verificar de la siguiente forma qué genera la lista de comprensión:"
   ]
  },
  {
   "cell_type": "code",
   "execution_count": 35,
   "id": "dd3d07de",
   "metadata": {},
   "outputs": [
    {
     "data": {
      "text/plain": [
       "[[2.2, 4.2], [7.2, -25.1], [9.26, -2.456]]"
      ]
     },
     "execution_count": 35,
     "metadata": {},
     "output_type": "execute_result"
    }
   ],
   "source": [
    "[[p.x, p.y] for p in [point1, point2, point3]]"
   ]
  },
  {
   "cell_type": "markdown",
   "id": "75332903",
   "metadata": {},
   "source": [
    "Por tanto, se está pasando una lista de listas como entrada para crear el polígono."
   ]
  },
  {
   "cell_type": "code",
   "execution_count": 36,
   "id": "66fc3779",
   "metadata": {},
   "outputs": [],
   "source": [
    "# Easier adding a list of point objects\n",
    "poly3 = Polygon([point1, point2, point3])"
   ]
  },
  {
   "cell_type": "code",
   "execution_count": 37,
   "id": "ae720b27",
   "metadata": {},
   "outputs": [
    {
     "name": "stdout",
     "output_type": "stream",
     "text": [
      "True\n",
      "True\n"
     ]
    }
   ],
   "source": [
    "# Are the polygonal objects created using the different approaches identical?\n",
    "print(poly == poly2)\n",
    "print(poly == poly3)"
   ]
  },
  {
   "cell_type": "markdown",
   "id": "21eb9614",
   "metadata": {},
   "source": [
    "El póligono tiene la siguiente \"pinta\":"
   ]
  },
  {
   "cell_type": "code",
   "execution_count": 38,
   "id": "41ff5180",
   "metadata": {},
   "outputs": [
    {
     "data": {
      "image/svg+xml": [
       "<svg xmlns=\"http://www.w3.org/2000/svg\" xmlns:xlink=\"http://www.w3.org/1999/xlink\" width=\"100.0\" height=\"100.0\" viewBox=\"1.028 -26.272000000000002 9.404 31.644000000000002\" preserveAspectRatio=\"xMinYMin meet\"><g transform=\"matrix(1,0,0,-1,0,-20.900000000000002)\"><path fill-rule=\"evenodd\" fill=\"#66cc99\" stroke=\"#555555\" stroke-width=\"0.63288\" opacity=\"0.6\" d=\"M 2.2,4.2 L 7.2,-25.1 L 9.26,-2.456 L 2.2,4.2 z\" /></g></svg>"
      ],
      "text/plain": [
       "<POLYGON ((2.2 4.2, 7.2 -25.1, 9.26 -2.456, 2.2 4.2))>"
      ]
     },
     "execution_count": 38,
     "metadata": {},
     "output_type": "execute_result"
    }
   ],
   "source": [
    "poly"
   ]
  },
  {
   "cell_type": "code",
   "execution_count": 39,
   "id": "404570af",
   "metadata": {},
   "outputs": [
    {
     "name": "stdout",
     "output_type": "stream",
     "text": [
      "POLYGON ((2.2 4.2, 7.2 -25.1, 9.26 -2.456, 2.2 4.2))\n"
     ]
    }
   ],
   "source": [
    "print(poly)"
   ]
  },
  {
   "cell_type": "markdown",
   "id": "82130ae9",
   "metadata": {},
   "source": [
    "Observe que la representación `Polygon` tiene doble paréntesis alrededor de las coordenadas (es decir, `POLYGON ((<valores>))` ). Esto se debe a que Polygon también puede tener agujeros en su interior."
   ]
  },
  {
   "cell_type": "markdown",
   "id": "ee9562a5",
   "metadata": {},
   "source": [
    "Verificamos el tipo de datos:"
   ]
  },
  {
   "cell_type": "code",
   "execution_count": 40,
   "id": "a601a356",
   "metadata": {},
   "outputs": [
    {
     "data": {
      "text/plain": [
       "shapely.geometry.polygon.Polygon"
      ]
     },
     "execution_count": 40,
     "metadata": {},
     "output_type": "execute_result"
    }
   ],
   "source": [
    "# Data type\n",
    "type(poly)"
   ]
  },
  {
   "cell_type": "code",
   "execution_count": 41,
   "id": "aa5cb419",
   "metadata": {},
   "outputs": [
    {
     "data": {
      "text/plain": [
       "'Polygon'"
      ]
     },
     "execution_count": 41,
     "metadata": {},
     "output_type": "execute_result"
    }
   ],
   "source": [
    "# Geometry type\n",
    "poly.geom_type"
   ]
  },
  {
   "cell_type": "code",
   "execution_count": 42,
   "id": "69668b86",
   "metadata": {
    "tags": []
   },
   "outputs": [
    {
     "name": "stdout",
     "output_type": "stream",
     "text": [
      "Help on class Polygon in module shapely.geometry.polygon:\n",
      "\n",
      "class Polygon(shapely.geometry.base.BaseGeometry)\n",
      " |  Polygon(shell=None, holes=None)\n",
      " |  \n",
      " |  A geometry type representing an area that is enclosed by a linear ring.\n",
      " |  \n",
      " |  A polygon is a two-dimensional feature and has a non-zero area. It may\n",
      " |  have one or more negative-space \"holes\" which are also bounded by linear\n",
      " |  rings. If any rings cross each other, the feature is invalid and\n",
      " |  operations on it may fail.\n",
      " |  \n",
      " |  Parameters\n",
      " |  ----------\n",
      " |  shell : sequence\n",
      " |      A sequence of (x, y [,z]) numeric coordinate pairs or triples, or\n",
      " |      an array-like with shape (N, 2) or (N, 3).\n",
      " |      Also can be a sequence of Point objects.\n",
      " |  holes : sequence\n",
      " |      A sequence of objects which satisfy the same requirements as the\n",
      " |      shell parameters above\n",
      " |  \n",
      " |  Attributes\n",
      " |  ----------\n",
      " |  exterior : LinearRing\n",
      " |      The ring which bounds the positive space of the polygon.\n",
      " |  interiors : sequence\n",
      " |      A sequence of rings which bound all existing holes.\n",
      " |  \n",
      " |  Examples\n",
      " |  --------\n",
      " |  Create a square polygon with no holes\n",
      " |  \n",
      " |  >>> coords = ((0., 0.), (0., 1.), (1., 1.), (1., 0.), (0., 0.))\n",
      " |  >>> polygon = Polygon(coords)\n",
      " |  >>> polygon.area\n",
      " |  1.0\n",
      " |  \n",
      " |  Method resolution order:\n",
      " |      Polygon\n",
      " |      shapely.geometry.base.BaseGeometry\n",
      " |      shapely.lib.Geometry\n",
      " |      builtins.object\n",
      " |  \n",
      " |  Methods defined here:\n",
      " |  \n",
      " |  __eq__(self, other)\n",
      " |      Return self==value.\n",
      " |  \n",
      " |  __hash__(self)\n",
      " |      Return hash(self).\n",
      " |  \n",
      " |  svg(self, scale_factor=1.0, fill_color=None, opacity=None)\n",
      " |      Returns SVG path element for the Polygon geometry.\n",
      " |      \n",
      " |      Parameters\n",
      " |      ==========\n",
      " |      scale_factor : float\n",
      " |          Multiplication factor for the SVG stroke-width.  Default is 1.\n",
      " |      fill_color : str, optional\n",
      " |          Hex string for fill color. Default is to use \"#66cc99\" if\n",
      " |          geometry is valid, and \"#ff3333\" if invalid.\n",
      " |      opacity : float\n",
      " |          Float number between 0 and 1 for color opacity. Default value is 0.6\n",
      " |  \n",
      " |  ----------------------------------------------------------------------\n",
      " |  Class methods defined here:\n",
      " |  \n",
      " |  from_bounds(xmin, ymin, xmax, ymax) from builtins.type\n",
      " |      Construct a `Polygon()` from spatial bounds.\n",
      " |  \n",
      " |  ----------------------------------------------------------------------\n",
      " |  Static methods defined here:\n",
      " |  \n",
      " |  __new__(self, shell=None, holes=None)\n",
      " |      Create and return a new object.  See help(type) for accurate signature.\n",
      " |  \n",
      " |  ----------------------------------------------------------------------\n",
      " |  Readonly properties defined here:\n",
      " |  \n",
      " |  __geo_interface__\n",
      " |      Dictionary representation of the geometry\n",
      " |  \n",
      " |  coords\n",
      " |      Access to geometry's coordinates (CoordinateSequence)\n",
      " |  \n",
      " |  exterior\n",
      " |  \n",
      " |  interiors\n",
      " |  \n",
      " |  ----------------------------------------------------------------------\n",
      " |  Methods inherited from shapely.geometry.base.BaseGeometry:\n",
      " |  \n",
      " |  __and__(self, other)\n",
      " |  \n",
      " |  __bool__(self)\n",
      " |  \n",
      " |  __format__(self, format_spec)\n",
      " |      Format a geometry using a format specification.\n",
      " |  \n",
      " |  __ne__(self, other)\n",
      " |      Return self!=value.\n",
      " |  \n",
      " |  __nonzero__(self)\n",
      " |  \n",
      " |  __or__(self, other)\n",
      " |  \n",
      " |  __reduce__(self)\n",
      " |      Helper for pickle.\n",
      " |  \n",
      " |  __repr__(self)\n",
      " |      Return repr(self).\n",
      " |  \n",
      " |  __str__(self)\n",
      " |      Return str(self).\n",
      " |  \n",
      " |  __sub__(self, other)\n",
      " |  \n",
      " |  __xor__(self, other)\n",
      " |  \n",
      " |  almost_equals(self, other, decimal=6)\n",
      " |      True if geometries are equal at all coordinates to a\n",
      " |      specified decimal place.\n",
      " |      \n",
      " |      .. deprecated:: 1.8.0\n",
      " |          The 'almost_equals()' method is deprecated\n",
      " |          and will be removed in Shapely 2.1 because the name is\n",
      " |          confusing. The 'equals_exact()' method should be used\n",
      " |          instead.\n",
      " |      \n",
      " |      Refers to approximate coordinate equality, which requires\n",
      " |      coordinates to be approximately equal and in the same order for\n",
      " |      all components of a geometry.\n",
      " |      \n",
      " |      Because of this it is possible for \"equals()\" to be True for two\n",
      " |      geometries and \"almost_equals()\" to be False.\n",
      " |      \n",
      " |      Examples\n",
      " |      --------\n",
      " |      >>> LineString(\n",
      " |      ...     [(0, 0), (2, 2)]\n",
      " |      ... ).equals_exact(\n",
      " |      ...     LineString([(0, 0), (1, 1), (2, 2)]),\n",
      " |      ...     1e-6\n",
      " |      ... )\n",
      " |      False\n",
      " |      \n",
      " |      Returns\n",
      " |      -------\n",
      " |      bool\n",
      " |  \n",
      " |  buffer(self, distance, quad_segs=16, cap_style='round', join_style='round', mitre_limit=5.0, single_sided=False, **kwargs)\n",
      " |      Get a geometry that represents all points within a distance\n",
      " |      of this geometry.\n",
      " |      \n",
      " |      A positive distance produces a dilation, a negative distance an\n",
      " |      erosion. A very small or zero distance may sometimes be used to\n",
      " |      \"tidy\" a polygon.\n",
      " |      \n",
      " |      Parameters\n",
      " |      ----------\n",
      " |      distance : float\n",
      " |          The distance to buffer around the object.\n",
      " |      resolution : int, optional\n",
      " |          The resolution of the buffer around each vertex of the\n",
      " |          object.\n",
      " |      quad_segs : int, optional\n",
      " |          Sets the number of line segments used to approximate an\n",
      " |          angle fillet.\n",
      " |      cap_style : shapely.BufferCapStyle or {'round', 'square', 'flat'}, default 'round'\n",
      " |          Specifies the shape of buffered line endings. BufferCapStyle.round ('round')\n",
      " |          results in circular line endings (see ``quad_segs``). Both BufferCapStyle.square\n",
      " |          ('square') and BufferCapStyle.flat ('flat') result in rectangular line endings,\n",
      " |          only BufferCapStyle.flat ('flat') will end at the original vertex,\n",
      " |          while BufferCapStyle.square ('square') involves adding the buffer width.\n",
      " |      join_style : shapely.BufferJoinStyle or {'round', 'mitre', 'bevel'}, default 'round'\n",
      " |          Specifies the shape of buffered line midpoints. BufferJoinStyle.ROUND ('round')\n",
      " |          results in rounded shapes. BufferJoinStyle.bevel ('bevel') results in a beveled\n",
      " |          edge that touches the original vertex. BufferJoinStyle.mitre ('mitre') results\n",
      " |          in a single vertex that is beveled depending on the ``mitre_limit`` parameter.\n",
      " |      mitre_limit : float, optional\n",
      " |          The mitre limit ratio is used for very sharp corners. The\n",
      " |          mitre ratio is the ratio of the distance from the corner to\n",
      " |          the end of the mitred offset corner. When two line segments\n",
      " |          meet at a sharp angle, a miter join will extend the original\n",
      " |          geometry. To prevent unreasonable geometry, the mitre limit\n",
      " |          allows controlling the maximum length of the join corner.\n",
      " |          Corners with a ratio which exceed the limit will be beveled.\n",
      " |      single_side : bool, optional\n",
      " |          The side used is determined by the sign of the buffer\n",
      " |          distance:\n",
      " |      \n",
      " |              a positive distance indicates the left-hand side\n",
      " |              a negative distance indicates the right-hand side\n",
      " |      \n",
      " |          The single-sided buffer of point geometries is the same as\n",
      " |          the regular buffer.  The End Cap Style for single-sided\n",
      " |          buffers is always ignored, and forced to the equivalent of\n",
      " |          CAP_FLAT.\n",
      " |      quadsegs : int, optional\n",
      " |          Deprecated alias for `quad_segs`.\n",
      " |      \n",
      " |      Returns\n",
      " |      -------\n",
      " |      Geometry\n",
      " |      \n",
      " |      Notes\n",
      " |      -----\n",
      " |      The return value is a strictly two-dimensional geometry. All\n",
      " |      Z coordinates of the original geometry will be ignored.\n",
      " |      \n",
      " |      Examples\n",
      " |      --------\n",
      " |      >>> from shapely.wkt import loads\n",
      " |      >>> g = loads('POINT (0.0 0.0)')\n",
      " |      \n",
      " |      16-gon approx of a unit radius circle:\n",
      " |      \n",
      " |      >>> g.buffer(1.0).area  # doctest: +ELLIPSIS\n",
      " |      3.1365484905459...\n",
      " |      \n",
      " |      128-gon approximation:\n",
      " |      \n",
      " |      >>> g.buffer(1.0, 128).area  # doctest: +ELLIPSIS\n",
      " |      3.141513801144...\n",
      " |      \n",
      " |      triangle approximation:\n",
      " |      \n",
      " |      >>> g.buffer(1.0, 3).area\n",
      " |      3.0\n",
      " |      >>> list(g.buffer(1.0, cap_style=BufferCapStyle.square).exterior.coords)\n",
      " |      [(1.0, 1.0), (1.0, -1.0), (-1.0, -1.0), (-1.0, 1.0), (1.0, 1.0)]\n",
      " |      >>> g.buffer(1.0, cap_style=BufferCapStyle.square).area\n",
      " |      4.0\n",
      " |  \n",
      " |  contains(self, other)\n",
      " |      Returns True if the geometry contains the other, else False\n",
      " |  \n",
      " |  contains_properly(self, other)\n",
      " |      Returns True if the geometry completely contains the other, with no\n",
      " |      common boundary points, else False\n",
      " |      \n",
      " |      Refer to `shapely.contains_properly` for full documentation.\n",
      " |  \n",
      " |  covered_by(self, other)\n",
      " |      Returns True if the geometry is covered by the other, else False\n",
      " |  \n",
      " |  covers(self, other)\n",
      " |      Returns True if the geometry covers the other, else False\n",
      " |  \n",
      " |  crosses(self, other)\n",
      " |      Returns True if the geometries cross, else False\n",
      " |  \n",
      " |  difference(self, other, grid_size=None)\n",
      " |      Returns the difference of the geometries.\n",
      " |      \n",
      " |      Refer to `shapely.difference` for full documentation.\n",
      " |  \n",
      " |  disjoint(self, other)\n",
      " |      Returns True if geometries are disjoint, else False\n",
      " |  \n",
      " |  distance(self, other)\n",
      " |      Unitless distance to other geometry (float)\n",
      " |  \n",
      " |  dwithin(self, other, distance)\n",
      " |      Returns True if geometry is within a given distance from the other, else False.\n",
      " |      \n",
      " |      Refer to `shapely.dwithin` for full documentation.\n",
      " |  \n",
      " |  equals(self, other)\n",
      " |      Returns True if geometries are equal, else False.\n",
      " |      \n",
      " |      This method considers point-set equality (or topological\n",
      " |      equality), and is equivalent to (self.within(other) &\n",
      " |      self.contains(other)).\n",
      " |      \n",
      " |      Examples\n",
      " |      --------\n",
      " |      >>> LineString(\n",
      " |      ...     [(0, 0), (2, 2)]\n",
      " |      ... ).equals(\n",
      " |      ...     LineString([(0, 0), (1, 1), (2, 2)])\n",
      " |      ... )\n",
      " |      True\n",
      " |      \n",
      " |      Returns\n",
      " |      -------\n",
      " |      bool\n",
      " |  \n",
      " |  equals_exact(self, other, tolerance)\n",
      " |      True if geometries are equal to within a specified\n",
      " |      tolerance.\n",
      " |      \n",
      " |      Parameters\n",
      " |      ----------\n",
      " |      other : BaseGeometry\n",
      " |          The other geometry object in this comparison.\n",
      " |      tolerance : float\n",
      " |          Absolute tolerance in the same units as coordinates.\n",
      " |      \n",
      " |      This method considers coordinate equality, which requires\n",
      " |      coordinates to be equal and in the same order for all components\n",
      " |      of a geometry.\n",
      " |      \n",
      " |      Because of this it is possible for \"equals()\" to be True for two\n",
      " |      geometries and \"equals_exact()\" to be False.\n",
      " |      \n",
      " |      Examples\n",
      " |      --------\n",
      " |      >>> LineString(\n",
      " |      ...     [(0, 0), (2, 2)]\n",
      " |      ... ).equals_exact(\n",
      " |      ...     LineString([(0, 0), (1, 1), (2, 2)]),\n",
      " |      ...     1e-6\n",
      " |      ... )\n",
      " |      False\n",
      " |      \n",
      " |      Returns\n",
      " |      -------\n",
      " |      bool\n",
      " |  \n",
      " |  geometryType(self)\n",
      " |  \n",
      " |  hausdorff_distance(self, other)\n",
      " |      Unitless hausdorff distance to other geometry (float)\n",
      " |  \n",
      " |  interpolate(self, distance, normalized=False)\n",
      " |      Return a point at the specified distance along a linear geometry\n",
      " |      \n",
      " |      Negative length values are taken as measured in the reverse\n",
      " |      direction from the end of the geometry. Out-of-range index\n",
      " |      values are handled by clamping them to the valid range of values.\n",
      " |      If the normalized arg is True, the distance will be interpreted as a\n",
      " |      fraction of the geometry's length.\n",
      " |      \n",
      " |      Alias of `line_interpolate_point`.\n",
      " |  \n",
      " |  intersection(self, other, grid_size=None)\n",
      " |      Returns the intersection of the geometries.\n",
      " |      \n",
      " |      Refer to `shapely.intersection` for full documentation.\n",
      " |  \n",
      " |  intersects(self, other)\n",
      " |      Returns True if geometries intersect, else False\n",
      " |  \n",
      " |  line_interpolate_point(self, distance, normalized=False)\n",
      " |      Return a point at the specified distance along a linear geometry\n",
      " |      \n",
      " |      Negative length values are taken as measured in the reverse\n",
      " |      direction from the end of the geometry. Out-of-range index\n",
      " |      values are handled by clamping them to the valid range of values.\n",
      " |      If the normalized arg is True, the distance will be interpreted as a\n",
      " |      fraction of the geometry's length.\n",
      " |      \n",
      " |      Alias of `interpolate`.\n",
      " |  \n",
      " |  line_locate_point(self, other, normalized=False)\n",
      " |      Returns the distance along this geometry to a point nearest the\n",
      " |      specified point\n",
      " |      \n",
      " |      If the normalized arg is True, return the distance normalized to the\n",
      " |      length of the linear geometry.\n",
      " |      \n",
      " |      Alias of `project`.\n",
      " |  \n",
      " |  normalize(self)\n",
      " |      Converts geometry to normal form (or canonical form).\n",
      " |      \n",
      " |      This method orders the coordinates, rings of a polygon and parts of\n",
      " |      multi geometries consistently. Typically useful for testing purposes\n",
      " |      (for example in combination with `equals_exact`).\n",
      " |      \n",
      " |      Examples\n",
      " |      --------\n",
      " |      >>> from shapely import MultiLineString\n",
      " |      >>> line = MultiLineString([[(0, 0), (1, 1)], [(3, 3), (2, 2)]])\n",
      " |      >>> line.normalize()\n",
      " |      <MULTILINESTRING ((2 2, 3 3), (0 0, 1 1))>\n",
      " |  \n",
      " |  overlaps(self, other)\n",
      " |      Returns True if geometries overlap, else False\n",
      " |  \n",
      " |  point_on_surface(self)\n",
      " |      Returns a point guaranteed to be within the object, cheaply.\n",
      " |      \n",
      " |      Alias of `representative_point`.\n",
      " |  \n",
      " |  project(self, other, normalized=False)\n",
      " |      Returns the distance along this geometry to a point nearest the\n",
      " |      specified point\n",
      " |      \n",
      " |      If the normalized arg is True, return the distance normalized to the\n",
      " |      length of the linear geometry.\n",
      " |      \n",
      " |      Alias of `line_locate_point`.\n",
      " |  \n",
      " |  relate(self, other)\n",
      " |      Returns the DE-9IM intersection matrix for the two geometries\n",
      " |      (string)\n",
      " |  \n",
      " |  relate_pattern(self, other, pattern)\n",
      " |      Returns True if the DE-9IM string code for the relationship between\n",
      " |      the geometries satisfies the pattern, else False\n",
      " |  \n",
      " |  representative_point(self)\n",
      " |      Returns a point guaranteed to be within the object, cheaply.\n",
      " |      \n",
      " |      Alias of `point_on_surface`.\n",
      " |  \n",
      " |  reverse(self)\n",
      " |      Returns a copy of this geometry with the order of coordinates reversed.\n",
      " |      \n",
      " |      If the geometry is a polygon with interior rings, the interior rings are also\n",
      " |      reversed.\n",
      " |      \n",
      " |      Points are unchanged.\n",
      " |      \n",
      " |      See also\n",
      " |      --------\n",
      " |      is_ccw : Checks if a geometry is clockwise.\n",
      " |      \n",
      " |      Examples\n",
      " |      --------\n",
      " |      >>> from shapely import LineString, Polygon\n",
      " |      >>> LineString([(0, 0), (1, 2)]).reverse()\n",
      " |      <LINESTRING (1 2, 0 0)>\n",
      " |      >>> Polygon([(0, 0), (1, 0), (1, 1), (0, 1), (0, 0)]).reverse()\n",
      " |      <POLYGON ((0 0, 0 1, 1 1, 1 0, 0 0))>\n",
      " |  \n",
      " |  segmentize(self, max_segment_length)\n",
      " |      Adds vertices to line segments based on maximum segment length.\n",
      " |      \n",
      " |      Additional vertices will be added to every line segment in an input geometry\n",
      " |      so that segments are no longer than the provided maximum segment length. New\n",
      " |      vertices will evenly subdivide each segment.\n",
      " |      \n",
      " |      Only linear components of input geometries are densified; other geometries\n",
      " |      are returned unmodified.\n",
      " |      \n",
      " |      Parameters\n",
      " |      ----------\n",
      " |      max_segment_length : float or array_like\n",
      " |          Additional vertices will be added so that all line segments are no\n",
      " |          longer this value.  Must be greater than 0.\n",
      " |      \n",
      " |      Examples\n",
      " |      --------\n",
      " |      >>> from shapely import LineString, Polygon\n",
      " |      >>> LineString([(0, 0), (0, 10)]).segmentize(max_segment_length=5)\n",
      " |      <LINESTRING (0 0, 0 5, 0 10)>\n",
      " |      >>> Polygon([(0, 0), (10, 0), (10, 10), (0, 10), (0, 0)]).segmentize(max_segment_length=5)\n",
      " |      <POLYGON ((0 0, 5 0, 10 0, 10 5, 10 10, 5 10, 0 10, 0 5, 0 0))>\n",
      " |  \n",
      " |  simplify(self, tolerance, preserve_topology=True)\n",
      " |      Returns a simplified geometry produced by the Douglas-Peucker\n",
      " |      algorithm\n",
      " |      \n",
      " |      Coordinates of the simplified geometry will be no more than the\n",
      " |      tolerance distance from the original. Unless the topology preserving\n",
      " |      option is used, the algorithm may produce self-intersecting or\n",
      " |      otherwise invalid geometries.\n",
      " |  \n",
      " |  symmetric_difference(self, other, grid_size=None)\n",
      " |      Returns the symmetric difference of the geometries.\n",
      " |      \n",
      " |      Refer to `shapely.symmetric_difference` for full documentation.\n",
      " |  \n",
      " |  touches(self, other)\n",
      " |      Returns True if geometries touch, else False\n",
      " |  \n",
      " |  union(self, other, grid_size=None)\n",
      " |      Returns the union of the geometries.\n",
      " |      \n",
      " |      Refer to `shapely.union` for full documentation.\n",
      " |  \n",
      " |  within(self, other)\n",
      " |      Returns True if geometry is within the other, else False\n",
      " |  \n",
      " |  ----------------------------------------------------------------------\n",
      " |  Readonly properties inherited from shapely.geometry.base.BaseGeometry:\n",
      " |  \n",
      " |  area\n",
      " |      Unitless area of the geometry (float)\n",
      " |  \n",
      " |  boundary\n",
      " |      Returns a lower dimension geometry that bounds the object\n",
      " |      \n",
      " |      The boundary of a polygon is a line, the boundary of a line is a\n",
      " |      collection of points. The boundary of a point is an empty (null)\n",
      " |      collection.\n",
      " |  \n",
      " |  bounds\n",
      " |      Returns minimum bounding region (minx, miny, maxx, maxy)\n",
      " |  \n",
      " |  centroid\n",
      " |      Returns the geometric center of the object\n",
      " |  \n",
      " |  convex_hull\n",
      " |      Imagine an elastic band stretched around the geometry: that's a\n",
      " |      convex hull, more or less\n",
      " |      \n",
      " |      The convex hull of a three member multipoint, for example, is a\n",
      " |      triangular polygon.\n",
      " |  \n",
      " |  envelope\n",
      " |      A figure that envelopes the geometry\n",
      " |  \n",
      " |  geom_type\n",
      " |      Name of the geometry's type, such as 'Point'\n",
      " |  \n",
      " |  has_z\n",
      " |      True if the geometry's coordinate sequence(s) have z values (are\n",
      " |      3-dimensional)\n",
      " |  \n",
      " |  is_closed\n",
      " |      True if the geometry is closed, else False\n",
      " |      \n",
      " |      Applicable only to 1-D geometries.\n",
      " |  \n",
      " |  is_empty\n",
      " |      True if the set of points in this geometry is empty, else False\n",
      " |  \n",
      " |  is_ring\n",
      " |      True if the geometry is a closed ring, else False\n",
      " |  \n",
      " |  is_simple\n",
      " |      True if the geometry is simple, meaning that any self-intersections\n",
      " |      are only at boundary points, else False\n",
      " |  \n",
      " |  is_valid\n",
      " |      True if the geometry is valid (definition depends on sub-class),\n",
      " |      else False\n",
      " |  \n",
      " |  length\n",
      " |      Unitless length of the geometry (float)\n",
      " |  \n",
      " |  minimum_clearance\n",
      " |      Unitless distance by which a node could be moved to produce an invalid geometry (float)\n",
      " |  \n",
      " |  minimum_rotated_rectangle\n",
      " |      Returns the oriented envelope (minimum rotated rectangle) that\n",
      " |      encloses the geometry.\n",
      " |      \n",
      " |      Unlike `envelope` this rectangle is not constrained to be parallel to the\n",
      " |      coordinate axes. If the convex hull of the object is a degenerate (line\n",
      " |      or point) this degenerate is returned.\n",
      " |      \n",
      " |      Alias of `oriented_envelope`.\n",
      " |  \n",
      " |  oriented_envelope\n",
      " |      Returns the oriented envelope (minimum rotated rectangle) that\n",
      " |      encloses the geometry.\n",
      " |      \n",
      " |      Unlike envelope this rectangle is not constrained to be parallel to the\n",
      " |      coordinate axes. If the convex hull of the object is a degenerate (line\n",
      " |      or point) this degenerate is returned.\n",
      " |      \n",
      " |      Alias of `minimum_rotated_rectangle`.\n",
      " |  \n",
      " |  type\n",
      " |  \n",
      " |  wkb\n",
      " |      WKB representation of the geometry\n",
      " |  \n",
      " |  wkb_hex\n",
      " |      WKB hex representation of the geometry\n",
      " |  \n",
      " |  wkt\n",
      " |      WKT representation of the geometry\n",
      " |  \n",
      " |  xy\n",
      " |      Separate arrays of X and Y coordinate values\n",
      " |  \n",
      " |  ----------------------------------------------------------------------\n",
      " |  Methods inherited from shapely.lib.Geometry:\n",
      " |  \n",
      " |  __ge__(self, value, /)\n",
      " |      Return self>=value.\n",
      " |  \n",
      " |  __gt__(self, value, /)\n",
      " |      Return self>value.\n",
      " |  \n",
      " |  __le__(self, value, /)\n",
      " |      Return self<=value.\n",
      " |  \n",
      " |  __lt__(self, value, /)\n",
      " |      Return self<value.\n",
      " |  \n",
      " |  __setstate__(...)\n",
      " |      For unpickling pre-shapely 2.0 pickles\n",
      "\n"
     ]
    }
   ],
   "source": [
    "# Check the help for Polygon objects:\n",
    "help(Polygon)"
   ]
  },
  {
   "cell_type": "markdown",
   "id": "cefb4fdc",
   "metadata": {},
   "source": [
    "En la ayuda [Polygon](https://shapely.readthedocs.io/en/stable/manual.html#polygons) se puede ver que es posible construir un polígono usando coordenadas exteriores y coordenadas interiores (opcional), donde las coordenadas interiores crean un agujero dentro del polígono:\n"
   ]
  },
  {
   "cell_type": "markdown",
   "id": "f0f58ca6",
   "metadata": {},
   "source": [
    "Para entender lo anterior, creemos un `Polygon` con un agujero:"
   ]
  },
  {
   "cell_type": "code",
   "execution_count": 43,
   "id": "486849ef",
   "metadata": {},
   "outputs": [],
   "source": [
    "# Define the outer border\n",
    "border = [(-180, 90), (-180, -90), (180, -90), (180, 90)]"
   ]
  },
  {
   "cell_type": "code",
   "execution_count": 44,
   "id": "4308cf61",
   "metadata": {},
   "outputs": [
    {
     "name": "stdout",
     "output_type": "stream",
     "text": [
      "POLYGON ((-180 90, -180 -90, 180 -90, 180 90, -180 90))\n"
     ]
    }
   ],
   "source": [
    "# Outer polygon\n",
    "poly_out = Polygon(shell=border)\n",
    "print(poly_out)"
   ]
  },
  {
   "cell_type": "code",
   "execution_count": 45,
   "id": "d12c7cc8",
   "metadata": {},
   "outputs": [
    {
     "data": {
      "image/svg+xml": [
       "<svg xmlns=\"http://www.w3.org/2000/svg\" xmlns:xlink=\"http://www.w3.org/1999/xlink\" width=\"300\" height=\"208.8\" viewBox=\"-194.4 -104.4 388.8 208.8\" preserveAspectRatio=\"xMinYMin meet\"><g transform=\"matrix(1,0,0,-1,0,0.0)\"><path fill-rule=\"evenodd\" fill=\"#66cc99\" stroke=\"#555555\" stroke-width=\"2.592\" opacity=\"0.6\" d=\"M -180.0,90.0 L -180.0,-90.0 L 180.0,-90.0 L 180.0,90.0 L -180.0,90.0 z\" /></g></svg>"
      ],
      "text/plain": [
       "<POLYGON ((-180 90, -180 -90, 180 -90, 180 90, -180 90))>"
      ]
     },
     "execution_count": 45,
     "metadata": {},
     "output_type": "execute_result"
    }
   ],
   "source": [
    "poly_out"
   ]
  },
  {
   "cell_type": "code",
   "execution_count": 46,
   "id": "3a708e61",
   "metadata": {},
   "outputs": [],
   "source": [
    "# Let's create a single big hole where we leave ten units at the boundaries\n",
    "# there could be multiple holes, so we need to provide list of coordinates for the hole inside a list\n",
    "hole = [[(-170, 80), (-170, -80), (170, -80), (170, 80)]]"
   ]
  },
  {
   "cell_type": "code",
   "execution_count": 47,
   "id": "6fe9ec0e",
   "metadata": {},
   "outputs": [
    {
     "name": "stdout",
     "output_type": "stream",
     "text": [
      "POLYGON ((-180 90, -180 -90, 180 -90, 180 90, -180 90), (-170 80, -170 -80, 170 -80, 170 80, -170 80))\n"
     ]
    }
   ],
   "source": [
    "# Now we can construct our Polygon with the hole inside\n",
    "frame = Polygon(shell=border, holes=hole)\n",
    "print(frame)"
   ]
  },
  {
   "cell_type": "markdown",
   "id": "2d742f9b",
   "metadata": {},
   "source": [
    "Vamos a ver cómo es frame:"
   ]
  },
  {
   "cell_type": "code",
   "execution_count": 48,
   "id": "69085193",
   "metadata": {},
   "outputs": [
    {
     "data": {
      "image/svg+xml": [
       "<svg xmlns=\"http://www.w3.org/2000/svg\" xmlns:xlink=\"http://www.w3.org/1999/xlink\" width=\"300\" height=\"208.8\" viewBox=\"-194.4 -104.4 388.8 208.8\" preserveAspectRatio=\"xMinYMin meet\"><g transform=\"matrix(1,0,0,-1,0,0.0)\"><path fill-rule=\"evenodd\" fill=\"#66cc99\" stroke=\"#555555\" stroke-width=\"2.592\" opacity=\"0.6\" d=\"M -180.0,90.0 L -180.0,-90.0 L 180.0,-90.0 L 180.0,90.0 L -180.0,90.0 z M -170.0,80.0 L -170.0,-80.0 L 170.0,-80.0 L 170.0,80.0 L -170.0,80.0 z\" /></g></svg>"
      ],
      "text/plain": [
       "<POLYGON ((-180 90, -180 -90, 180 -90, 180 90, -180 90), (-170 80, -170 -80,...>"
      ]
     },
     "execution_count": 48,
     "metadata": {},
     "output_type": "execute_result"
    }
   ],
   "source": [
    "frame"
   ]
  },
  {
   "cell_type": "markdown",
   "id": "b6427145",
   "metadata": {},
   "source": [
    "De acuerdo a lo obtenido, `Polygon` tiene ahora dos tuplas de coordenadas diferentes. El primero representa el **exterior** y el segundo representa el **agujero** dentro del Polígono."
   ]
  },
  {
   "cell_type": "markdown",
   "id": "07bcdbf4",
   "metadata": {},
   "source": [
    "#### Atributos y funciones de Polygon\n",
    "\n",
    "Nuevamente podemos acceder a diferentes atributos directamente desde el objeto `Polygon` de gran utilidad para los análisis que tengamos que realizar, tales como `area`, `centroid`, `bounding box`, `exterior`, and `exterior-length`. Consulte la  lista completa de métodos en el [Manual de usuario de Shapely](https://shapely.readthedocs.io/en/stable/manual.html#the-shapely-user-manual).\n",
    "\n",
    "Ahora repasaremos algunos de los atributos disponibles y cómo acceder a ellos:"
   ]
  },
  {
   "cell_type": "code",
   "execution_count": 49,
   "id": "26cac638",
   "metadata": {},
   "outputs": [
    {
     "name": "stdout",
     "output_type": "stream",
     "text": [
      "Polygon centroid: POINT (0 0)\n",
      "Polygon Area: 64800.0\n",
      "Polygon Bounding Box: (-180.0, -90.0, 180.0, 90.0)\n",
      "Polygon Exterior: LINEARRING (-180 90, -180 -90, 180 -90, 180 90, -180 90)\n",
      "Polygon Exterior Length: 1080.0\n"
     ]
    }
   ],
   "source": [
    "# Print the outputs\n",
    "print(f\"Polygon centroid: {poly_out.centroid}\")\n",
    "print(f\"Polygon Area: {poly_out.area}\")\n",
    "print(f\"Polygon Bounding Box: {poly_out.bounds}\")\n",
    "print(f\"Polygon Exterior: {poly_out.exterior}\")\n",
    "print(f\"Polygon Exterior Length: {poly_out.exterior.length}\")"
   ]
  },
  {
   "cell_type": "markdown",
   "id": "8abc95e8",
   "metadata": {},
   "source": [
    "Por tanto, es bastante sencillo acceder a diferentes atributos del objeto `Polygon`. En cuanto a las métricas de distancia tendrán más sentido cuando empecemos a trabajar con datos en un sistema de coordenadas proyectado."
   ]
  },
  {
   "cell_type": "markdown",
   "id": "e9a007a0",
   "metadata": {},
   "source": [
    "#### Verifica que lo has comprendido:\n",
    "\n",
    "¡Representa estas formas usando Shapely!\n",
    "\n",
    "- **Pentagon**, example coords: `(30, 2.01), (31.91, 0.62), (31.18, -1.63), (28.82, -1.63), (28.09, 0.62)` \n",
    "- **Triangle**   \n",
    "- **Square**    \n",
    "- **Circle**    \n"
   ]
  },
  {
   "cell_type": "code",
   "execution_count": 50,
   "id": "df74ce97",
   "metadata": {},
   "outputs": [
    {
     "data": {
      "image/svg+xml": [
       "<svg xmlns=\"http://www.w3.org/2000/svg\" xmlns:xlink=\"http://www.w3.org/1999/xlink\" width=\"100.0\" height=\"100.0\" viewBox=\"27.9372 -1.7828 4.125600000000002 3.9455999999999998\" preserveAspectRatio=\"xMinYMin meet\"><g transform=\"matrix(1,0,0,-1,0,0.3799999999999999)\"><path fill-rule=\"evenodd\" fill=\"#66cc99\" stroke=\"#555555\" stroke-width=\"0.08251200000000004\" opacity=\"0.6\" d=\"M 30.0,2.01 L 31.91,0.62 L 31.18,-1.63 L 28.82,-1.63 L 28.09,0.62 L 30.0,2.01 z\" /></g></svg>"
      ],
      "text/plain": [
       "<POLYGON ((30 2.01, 31.91 0.62, 31.18 -1.63, 28.82 -1.63, 28.09 0.62, 30 2.01))>"
      ]
     },
     "execution_count": 50,
     "metadata": {},
     "output_type": "execute_result"
    }
   ],
   "source": [
    "# Pentagon - Coordinates borrowed from this thread: https://tex.stackexchange.com/questions/179843/make-a-polygon-with-automatically-labelled-nodes-according-to-their-coordinates\n",
    "Polygon([(30, 2.01), (31.91, 0.62), (31.18, -1.63), (28.82, -1.63), (28.09, 0.62)])"
   ]
  },
  {
   "cell_type": "code",
   "execution_count": 54,
   "id": "bcfd6b8c",
   "metadata": {},
   "outputs": [
    {
     "data": {
      "image/svg+xml": [
       "<svg xmlns=\"http://www.w3.org/2000/svg\" xmlns:xlink=\"http://www.w3.org/1999/xlink\" width=\"100.0\" height=\"100.0\" viewBox=\"-0.08 -0.08 2.16 1.1600000000000001\" preserveAspectRatio=\"xMinYMin meet\"><g transform=\"matrix(1,0,0,-1,0,1.0)\"><path fill-rule=\"evenodd\" fill=\"#66cc99\" stroke=\"#555555\" stroke-width=\"0.0432\" opacity=\"0.6\" d=\"M 0.0,1.0 L 1.0,1.0 L 2.0,0.0 L 0.0,1.0 z\" /></g></svg>"
      ],
      "text/plain": [
       "<POLYGON ((0 1, 1 1, 2 0, 0 1))>"
      ]
     },
     "execution_count": 54,
     "metadata": {},
     "output_type": "execute_result"
    }
   ],
   "source": [
    "# Triangle\n",
    "Polygon([(0,1), (1,1), (2,0)])\n"
   ]
  },
  {
   "cell_type": "code",
   "execution_count": 53,
   "id": "b49d3655",
   "metadata": {},
   "outputs": [
    {
     "data": {
      "image/svg+xml": [
       "<svg xmlns=\"http://www.w3.org/2000/svg\" xmlns:xlink=\"http://www.w3.org/1999/xlink\" width=\"100.0\" height=\"100.0\" viewBox=\"-0.08 0.92 2.16 1.1600000000000001\" preserveAspectRatio=\"xMinYMin meet\"><g transform=\"matrix(1,0,0,-1,0,3.0)\"><path fill-rule=\"evenodd\" fill=\"#ff3333\" stroke=\"#555555\" stroke-width=\"0.0432\" opacity=\"0.6\" d=\"M 0.0,1.0 L 1.0,1.0 L 1.0,2.0 L 2.0,2.0 L 0.0,1.0 z\" /></g></svg>"
      ],
      "text/plain": [
       "<POLYGON ((0 1, 1 1, 1 2, 2 2, 0 1))>"
      ]
     },
     "execution_count": 53,
     "metadata": {},
     "output_type": "execute_result"
    }
   ],
   "source": [
    "# Square\n",
    "Polygon([(0,1), (1,1),(1,2),(2,2)])\n"
   ]
  },
  {
   "cell_type": "code",
   "execution_count": null,
   "id": "287d2a18",
   "metadata": {},
   "outputs": [],
   "source": [
    "# Circle (using a buffer around a point)\n"
   ]
  },
  {
   "cell_type": "markdown",
   "id": "58a60463",
   "metadata": {},
   "source": [
    "## Colecciones de geometrías\n",
    "\n",
    "\n",
    "A veces puede ser incluso útil almacenar múltiples geometrías (por ejemplo, varios puntos o varios polígonos) en una sola entidad. Un ejemplo práctico sería un país compuesto por varias islas. En tal caso, todos estos polígonos comparten los mismos atributos a nivel de país y podría ser razonable almacenar ese país como una colección de geometría que contenga todos los polígonos. La tabla de atributos contendría entonces una fila de información con atributos a nivel de país, y la geometría relacionada con esos atributos representaría varios polígonos.\n",
    "\n",
    "En Shapely, las colecciones de puntos se implementan mediante el uso de un objeto `MultiPoint`, las colecciones de curvas mediante el uso de un objeto `MultiLineString` y las colecciones de superficies mediante un objeto `MultiPolygon`."
   ]
  },
  {
   "cell_type": "code",
   "execution_count": null,
   "id": "575d2ac9",
   "metadata": {},
   "outputs": [],
   "source": [
    "# Import constructors to create geometry collections\n",
    "from shapely.geometry import MultiPoint, MultiLineString, MultiPolygon"
   ]
  },
  {
   "cell_type": "markdown",
   "id": "a8e4bc5d",
   "metadata": {},
   "source": [
    "Primero creamos objetos MultiPoint y MultilineString:"
   ]
  },
  {
   "cell_type": "code",
   "execution_count": null,
   "id": "e9aedf42",
   "metadata": {},
   "outputs": [],
   "source": [
    "# Create a MultiPoint object of points: 1, 2 and 3\n",
    "multi_point1 = MultiPoint([point1, point2, point3])\n",
    "\n",
    "# It is also possible to pass coordinate tuples inside\n",
    "multi_point2 = MultiPoint([(2.2, 4.2), (7.2, -25.1), (9.26, -2.456)])\n",
    "\n",
    "# We can also create a MultiLineString with two lines\n",
    "line1 = LineString([point1, point2])\n",
    "line2 = LineString([point2, point3])\n",
    "multi_line1 = MultiLineString([line1, line2])\n",
    "\n",
    "# Print object definitions\n",
    "print(multi_point1)\n",
    "print(multi_line1)"
   ]
  },
  {
   "cell_type": "code",
   "execution_count": null,
   "id": "c9846912",
   "metadata": {},
   "outputs": [],
   "source": [
    "multi_point1"
   ]
  },
  {
   "cell_type": "code",
   "execution_count": null,
   "id": "94b8b837",
   "metadata": {},
   "outputs": [],
   "source": [
    "multi_line1"
   ]
  },
  {
   "cell_type": "markdown",
   "id": "127d7cac",
   "metadata": {},
   "source": [
    "Los multipolígonos se construyen de manera similar. Creemos un cuadro delimitador combinando dos polígonos separados que, por ejemplo, podrían representar los hemisferios occidental y oriental:"
   ]
  },
  {
   "cell_type": "code",
   "execution_count": null,
   "id": "29bbf31c",
   "metadata": {
    "collapsed": false,
    "jupyter": {
     "outputs_hidden": false
    }
   },
   "outputs": [],
   "source": [
    "# Let's create the exterior of the western part of the world\n",
    "west_exterior = [(-180, 90), (-180, -90), (0, -90), (0, 90)]\n",
    "\n",
    "# Let's create a hole --> remember there can be multiple holes, thus we need to have a list of hole(s). \n",
    "# Here we have just one.\n",
    "west_hole = [[(-170, 80), (-170, -80), (-10, -80), (-10, 80)]]\n",
    "\n",
    "# Create the Polygon\n",
    "west_poly = Polygon(shell=west_exterior, holes=west_hole)\n",
    "\n",
    "# Print object definition\n",
    "print(west_poly)"
   ]
  },
  {
   "cell_type": "code",
   "execution_count": null,
   "id": "b4bef79d",
   "metadata": {},
   "outputs": [],
   "source": [
    "west_poly"
   ]
  },
  {
   "cell_type": "markdown",
   "id": "16aacd1c",
   "metadata": {},
   "source": [
    "Shapely también tiene una herramienta para crear [un cuadro delimitador](https://en.wikipedia.org/wiki/Minimum_bounding_box) basado en las coordenadas x e y mínimas y máximas. En lugar de usar el constructor Polygon, usemos el constructor [box](https://shapely.readthedocs.io/en/stable/manual.html#shapely.geometry.box) para crear el otro polígono:"
   ]
  },
  {
   "cell_type": "code",
   "execution_count": null,
   "id": "89519e8e",
   "metadata": {},
   "outputs": [],
   "source": [
    "from shapely.geometry import box"
   ]
  },
  {
   "cell_type": "code",
   "execution_count": null,
   "id": "e4338287",
   "metadata": {},
   "outputs": [],
   "source": [
    "# Specify the bbox extent (lower-left corner coordinates and upper-right corner coordinates)\n",
    "min_x, min_y = 0, -90\n",
    "max_x, max_y = 180, 90\n",
    "\n",
    "# Create the polygon using Shapely\n",
    "east_poly = box(minx=min_x, miny=min_y, maxx=max_x, maxy=max_y)\n",
    "\n",
    "# Print object definition\n",
    "print(east_poly)"
   ]
  },
  {
   "cell_type": "code",
   "execution_count": null,
   "id": "e035b999",
   "metadata": {},
   "outputs": [],
   "source": [
    "east_poly"
   ]
  },
  {
   "cell_type": "markdown",
   "id": "e115e99d",
   "metadata": {},
   "source": [
    "Y por último, podemos combinar los dos polígonos en un MultiPolygon:"
   ]
  },
  {
   "cell_type": "code",
   "execution_count": null,
   "id": "8ccde4f0",
   "metadata": {},
   "outputs": [],
   "source": [
    "# We can pass multiple Polygon -objects into our MultiPolygon as a list\n",
    "multi_poly = MultiPolygon([west_poly, east_poly])\n",
    "\n",
    "# Print object definition\n",
    "print(multi_poly)"
   ]
  },
  {
   "cell_type": "code",
   "execution_count": null,
   "id": "c19bbe35",
   "metadata": {},
   "outputs": [],
   "source": [
    "multi_poly"
   ]
  },
  {
   "cell_type": "markdown",
   "id": "d7aaa23b",
   "metadata": {},
   "source": [
    "Por tanto, las salidas son similares a los objetos geométricos básicos creados anteriormente. Sin embargo, ahora estos objetos contienen múltiples características de los puntos, líneas o polígonos de que consta.\n",
    "\n",
    "#### *Convex hull* y *envelope*\n",
    "\n",
    "*Convex hull* se refiere al polígono más pequeño posible que contiene todos los objetos de una colección. Junto con el cuadro delimitador mínimo, el *convex hull* es una forma útil (*shape*) cuando se pretende describir la extensión de los datos.\n",
    "\n",
    "Por ejemplo, vamos a crear un *convex hull* alrededor de nuestro objeto multi_punto:"
   ]
  },
  {
   "cell_type": "code",
   "execution_count": null,
   "id": "1393a188",
   "metadata": {},
   "outputs": [],
   "source": [
    "# Check input geometry\n",
    "multi_point1"
   ]
  },
  {
   "cell_type": "code",
   "execution_count": null,
   "id": "21ba0916",
   "metadata": {},
   "outputs": [],
   "source": [
    "# Convex Hull (smallest polygon around the geometry collection)\n",
    "multi_point1.convex_hull"
   ]
  },
  {
   "cell_type": "code",
   "execution_count": null,
   "id": "787b08f8",
   "metadata": {},
   "outputs": [],
   "source": [
    "# Envelope (smalles rectangular polygon around the geometry collection): \n",
    "multi_point1.envelope"
   ]
  },
  {
   "cell_type": "markdown",
   "id": "b2bcf962",
   "metadata": {},
   "source": [
    "#### Otros atributos útiles\n",
    "\n",
    "Por ejemplo, longitud de la colección de geometría:"
   ]
  },
  {
   "cell_type": "code",
   "execution_count": null,
   "id": "7981e75d",
   "metadata": {},
   "outputs": [],
   "source": [
    "print(f\"Number of objects in our MultiLine: {len(multi_line1.geoms)}\")\n",
    "\n",
    "print(f\"Number of objects in our MultiPolygon: {len(multi_poly.geoms)}\")"
   ]
  },
  {
   "cell_type": "markdown",
   "id": "b6964794",
   "metadata": {},
   "source": [
    "Area:"
   ]
  },
  {
   "cell_type": "code",
   "execution_count": null,
   "id": "2e606b56",
   "metadata": {
    "collapsed": false,
    "jupyter": {
     "outputs_hidden": false
    },
    "scrolled": true
   },
   "outputs": [],
   "source": [
    "# Print outputs:\n",
    "print(f\"Area of our MultiPolygon: {multi_poly.area}\")\n",
    "print(f\"Area of our Western Hemisphere polygon: {multi_poly.geoms[1].area}\")"
   ]
  },
  {
   "cell_type": "code",
   "execution_count": null,
   "id": "fcaca432-bcc1-4030-956f-1cb1d1550908",
   "metadata": {},
   "outputs": [],
   "source": [
    "print(multi_poly[0])"
   ]
  },
  {
   "cell_type": "markdown",
   "id": "17cbbebf",
   "metadata": {},
   "source": [
    "Se puede ver que los multipolígonos tienen exactamente los mismos atributos disponibles que los objetos geométricos individuales, pero ahora la información como el área calcula el área de **TODOS** los objetos individuales combinados. También podemos acceder a objetos individuales dentro de las colecciones de geometría usando índices (pruebe a realizar `multi_poly[0]`, ¿qué sucede?, ¿por qué?)."
   ]
  },
  {
   "cell_type": "markdown",
   "id": "d6953ffd",
   "metadata": {},
   "source": [
    "También podemos comprobar si tenemos un MultiPolygon \"válido\". Un *MultiPolygon es válido si los polígonos individuales no se cruzan entre sí*.\n",
    "En el ejemplo, debido a que los polígonos tienen un meridiano 0 común, NO deberíamos tener un polígono válido. Compruebe la validez de un objeto como éste a partir del atributo **is_valid** que indica si los polígonos o líneas se cruzan entre sí. Esta información podría ser útil al intentar encontrar errores topológicos en sus datos:"
   ]
  },
  {
   "cell_type": "code",
   "execution_count": null,
   "id": "d907d820",
   "metadata": {
    "scrolled": true
   },
   "outputs": [],
   "source": [
    "print(f\"Is polygon valid?: {multi_poly.is_valid}\")"
   ]
  },
  {
   "cell_type": "markdown",
   "id": "3b1286f0",
   "metadata": {},
   "source": [
    "<small><small><i>\n",
    "Este notebook está adaptado de:\n",
    "* Analyze Geospatial Data in Python: GeoPandas and Shapely: https://www.learndatasci.com/tutorials/geospatial-data-python-geopandas-shapely/\n",
    "* Automating GIS-Processes: https://autogis-site.readthedocs.io/en/latest/notebooks/L1/geometric-objects.html\n",
    "</i></small></small>"
   ]
  },
  {
   "cell_type": "markdown",
   "id": "961bc683-e522-48bb-915f-670986b8741a",
   "metadata": {},
   "source": [
    "> *© 2025, Julia Clemente Párraga (<mailto:juliaclementep@gmail.com>). Licensed under [MIT License](https://opensource.org/license/mit/)*"
   ]
  }
 ],
 "metadata": {
  "kernelspec": {
   "display_name": "Python (advprog)",
   "language": "python",
   "name": "advprog"
  },
  "language_info": {
   "codemirror_mode": {
    "name": "ipython",
    "version": 3
   },
   "file_extension": ".py",
   "mimetype": "text/x-python",
   "name": "python",
   "nbconvert_exporter": "python",
   "pygments_lexer": "ipython3",
   "version": "3.9.21"
  }
 },
 "nbformat": 4,
 "nbformat_minor": 5
}
